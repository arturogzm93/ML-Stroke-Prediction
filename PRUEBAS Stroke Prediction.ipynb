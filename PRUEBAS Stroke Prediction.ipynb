{
  "nbformat": 4,
  "nbformat_minor": 0,
  "metadata": {
    "language_info": {
      "codemirror_mode": {
        "name": "ipython",
        "version": 3
      },
      "file_extension": ".py",
      "mimetype": "text/x-python",
      "name": "python",
      "nbconvert_exporter": "python",
      "pygments_lexer": "ipython3",
      "version": "3.8.5-final"
    },
    "orig_nbformat": 2,
    "kernelspec": {
      "name": "python385jvsc74a57bd0fc33febecb25bf51ecb9e8745ca02a2d49ab50b5c3e3d57ffb721b0f2206d5d8",
      "display_name": "Python 3.8.5 64-bit (conda)"
    },
    "colab": {
      "name": "PRUEBAS Stroke Prediction.ipynb",
      "provenance": [],
      "toc_visible": true
    }
  },
  "cells": [
    {
      "cell_type": "code",
      "metadata": {
        "id": "fYbK-U5Eznsp"
      },
      "source": [
        "# CARAR LIBRERIAS\n",
        "\n",
        "import pandas as pd\n",
        "import numpy as np\n",
        "import seaborn as sns\n",
        "import matplotlib.pyplot as plt\n",
        "import warnings\n",
        "warnings.filterwarnings(\"ignore\")\n",
        "\n",
        "from sklearn.model_selection import train_test_split\n",
        "from sklearn.impute import KNNImputer\n",
        "from imblearn.over_sampling import SMOTE\n",
        "from sklearn.pipeline import Pipeline\n",
        "from sklearn.model_selection import GridSearchCV\n",
        "\n",
        "from sklearn.ensemble import RandomForestClassifier\n",
        "from sklearn.linear_model import LogisticRegression\n",
        "from sklearn.svm import SVC\n",
        "from xgboost import XGBClassifier\n",
        "\n",
        "from sklearn.metrics import accuracy_score, f1_score, recall_score, roc_auc_score, confusion_matrix"
      ],
      "execution_count": 3,
      "outputs": []
    },
    {
      "cell_type": "code",
      "metadata": {
        "colab": {
          "base_uri": "https://localhost:8080/",
          "height": 195
        },
        "id": "K4pAVFJiznsz",
        "outputId": "46115bc5-bc3e-4044-abf6-dfe7d7bed7b8"
      },
      "source": [
        "# CARGAR BASE DE DATOS\n",
        "\n",
        "df = pd.read_csv('../BBDD/healthcare-dataset-stroke-data.csv')\n",
        "df.head()"
      ],
      "execution_count": 5,
      "outputs": [
        {
          "output_type": "execute_result",
          "data": {
            "text/plain": [
              "      id  gender   age  hypertension  heart_disease ever_married  \\\n",
              "0   9046    Male  67.0             0              1          Yes   \n",
              "1  51676  Female  61.0             0              0          Yes   \n",
              "2  31112    Male  80.0             0              1          Yes   \n",
              "3  60182  Female  49.0             0              0          Yes   \n",
              "4   1665  Female  79.0             1              0          Yes   \n",
              "\n",
              "       work_type Residence_type  avg_glucose_level   bmi   smoking_status  \\\n",
              "0        Private          Urban             228.69  36.6  formerly smoked   \n",
              "1  Self-employed          Rural             202.21   NaN     never smoked   \n",
              "2        Private          Rural             105.92  32.5     never smoked   \n",
              "3        Private          Urban             171.23  34.4           smokes   \n",
              "4  Self-employed          Rural             174.12  24.0     never smoked   \n",
              "\n",
              "   stroke  \n",
              "0       1  \n",
              "1       1  \n",
              "2       1  \n",
              "3       1  \n",
              "4       1  "
            ],
            "text/html": "<div>\n<style scoped>\n    .dataframe tbody tr th:only-of-type {\n        vertical-align: middle;\n    }\n\n    .dataframe tbody tr th {\n        vertical-align: top;\n    }\n\n    .dataframe thead th {\n        text-align: right;\n    }\n</style>\n<table border=\"1\" class=\"dataframe\">\n  <thead>\n    <tr style=\"text-align: right;\">\n      <th></th>\n      <th>id</th>\n      <th>gender</th>\n      <th>age</th>\n      <th>hypertension</th>\n      <th>heart_disease</th>\n      <th>ever_married</th>\n      <th>work_type</th>\n      <th>Residence_type</th>\n      <th>avg_glucose_level</th>\n      <th>bmi</th>\n      <th>smoking_status</th>\n      <th>stroke</th>\n    </tr>\n  </thead>\n  <tbody>\n    <tr>\n      <th>0</th>\n      <td>9046</td>\n      <td>Male</td>\n      <td>67.0</td>\n      <td>0</td>\n      <td>1</td>\n      <td>Yes</td>\n      <td>Private</td>\n      <td>Urban</td>\n      <td>228.69</td>\n      <td>36.6</td>\n      <td>formerly smoked</td>\n      <td>1</td>\n    </tr>\n    <tr>\n      <th>1</th>\n      <td>51676</td>\n      <td>Female</td>\n      <td>61.0</td>\n      <td>0</td>\n      <td>0</td>\n      <td>Yes</td>\n      <td>Self-employed</td>\n      <td>Rural</td>\n      <td>202.21</td>\n      <td>NaN</td>\n      <td>never smoked</td>\n      <td>1</td>\n    </tr>\n    <tr>\n      <th>2</th>\n      <td>31112</td>\n      <td>Male</td>\n      <td>80.0</td>\n      <td>0</td>\n      <td>1</td>\n      <td>Yes</td>\n      <td>Private</td>\n      <td>Rural</td>\n      <td>105.92</td>\n      <td>32.5</td>\n      <td>never smoked</td>\n      <td>1</td>\n    </tr>\n    <tr>\n      <th>3</th>\n      <td>60182</td>\n      <td>Female</td>\n      <td>49.0</td>\n      <td>0</td>\n      <td>0</td>\n      <td>Yes</td>\n      <td>Private</td>\n      <td>Urban</td>\n      <td>171.23</td>\n      <td>34.4</td>\n      <td>smokes</td>\n      <td>1</td>\n    </tr>\n    <tr>\n      <th>4</th>\n      <td>1665</td>\n      <td>Female</td>\n      <td>79.0</td>\n      <td>1</td>\n      <td>0</td>\n      <td>Yes</td>\n      <td>Self-employed</td>\n      <td>Rural</td>\n      <td>174.12</td>\n      <td>24.0</td>\n      <td>never smoked</td>\n      <td>1</td>\n    </tr>\n  </tbody>\n</table>\n</div>"
          },
          "metadata": {},
          "execution_count": 5
        }
      ]
    },
    {
      "cell_type": "code",
      "metadata": {
        "id": "vXpE72wrzns1"
      },
      "source": [
        "# BORRAR COLUMNA ID\n",
        "\n",
        "df.drop(columns='id', inplace=True)"
      ],
      "execution_count": 6,
      "outputs": []
    },
    {
      "cell_type": "code",
      "metadata": {
        "colab": {
          "base_uri": "https://localhost:8080/"
        },
        "id": "wQjqRyKFzns1",
        "outputId": "0b14830e-f668-485c-adf2-73ff37a9b4b8"
      },
      "source": [
        "# COMPROBAR NANS Y PORCENTAJE\n",
        "\n",
        "print(df.isnull().sum())\n",
        "print('')\n",
        "print(df.isnull().sum() / len(df) * 100)"
      ],
      "execution_count": 7,
      "outputs": [
        {
          "output_type": "stream",
          "name": "stdout",
          "text": [
            "gender                 0\nage                    0\nhypertension           0\nheart_disease          0\never_married           0\nwork_type              0\nResidence_type         0\navg_glucose_level      0\nbmi                  201\nsmoking_status         0\nstroke                 0\ndtype: int64\n\ngender               0.000000\nage                  0.000000\nhypertension         0.000000\nheart_disease        0.000000\never_married         0.000000\nwork_type            0.000000\nResidence_type       0.000000\navg_glucose_level    0.000000\nbmi                  3.933464\nsmoking_status       0.000000\nstroke               0.000000\ndtype: float64\n"
          ]
        }
      ]
    },
    {
      "cell_type": "code",
      "metadata": {
        "colab": {
          "base_uri": "https://localhost:8080/"
        },
        "id": "S9Rsa9vtzns2",
        "outputId": "517b363c-42d6-4c19-eddf-04a7b765c48e"
      },
      "source": [
        "# TOTAL DE MISSINGS EN STROKE = 1\n",
        "\n",
        "print(df[df['stroke'] == 1].count())\n",
        "print(' ')\n",
        "print(df[df['stroke'] == 1].isnull().sum())"
      ],
      "execution_count": 8,
      "outputs": [
        {
          "output_type": "stream",
          "name": "stdout",
          "text": [
            "gender               249\nage                  249\nhypertension         249\nheart_disease        249\never_married         249\nwork_type            249\nResidence_type       249\navg_glucose_level    249\nbmi                  209\nsmoking_status       249\nstroke               249\ndtype: int64\n \ngender                0\nage                   0\nhypertension          0\nheart_disease         0\never_married          0\nwork_type             0\nResidence_type        0\navg_glucose_level     0\nbmi                  40\nsmoking_status        0\nstroke                0\ndtype: int64\n"
          ]
        }
      ]
    },
    {
      "cell_type": "code",
      "metadata": {
        "id": "f8XcW6UCzns2"
      },
      "source": [
        "# SUSTITUIR EN COLUMNA 'GENDER' FEMALE POR 0 Y MALE POR 1\n",
        "\n",
        "df.loc[df['gender'] == 'Female', 'gender'] = 0\n",
        "df.loc[df['gender'] == 'Male', 'gender'] = 1\n",
        "\n",
        "# SUSTITUIR EN COLUMNA 'EVER_MARRIED' NO POR 0 Y YES POR 1\n",
        "\n",
        "df.loc[df['ever_married'] == 'No', 'ever_married'] = 0\n",
        "df.loc[df['ever_married'] == 'Yes', 'ever_married'] = 1\n",
        "\n",
        "# SUSTITUIR EN COLUMNA 'RESIDENCE TYPE' RURAL POR 0 Y URBAN POR 1\n",
        "\n",
        "df.loc[df['Residence_type'] == 'Rural', 'Residence_type'] = 0\n",
        "df.loc[df['Residence_type'] == 'Urban', 'Residence_type'] = 1"
      ],
      "execution_count": 9,
      "outputs": []
    },
    {
      "cell_type": "code",
      "metadata": {
        "id": "GKHeVJ7czns3"
      },
      "source": [
        "# BORRAR FILA CON GENDER 'OTHER'\n",
        "\n",
        "df.drop(index= 3116, inplace=True)\n",
        "\n",
        "# RESETEAR LOS VALORES DEL INDICE\n",
        "\n",
        "df.reset_index(drop = True, inplace = True)"
      ],
      "execution_count": 11,
      "outputs": []
    },
    {
      "cell_type": "code",
      "metadata": {
        "id": "pSFRTK6Zzns4"
      },
      "source": [
        "# SEPARAR EN DISTINTAS COLUMNAS LAS DIFERENTES CATEGORIAS DE 'WORK TYPE' Y 'SMOKING STATUS'\n",
        "\n",
        "df = pd.get_dummies(data=df, columns=['work_type', 'smoking_status'])"
      ],
      "execution_count": 12,
      "outputs": []
    },
    {
      "cell_type": "code",
      "metadata": {
        "id": "y2yltquAzns5"
      },
      "source": [
        "# CAMBIAR TIPOS EN COLUMNAS\n",
        "\n",
        "df = df.astype({\n",
        "    'gender': 'int64',\n",
        "    'age': 'int64',\n",
        "    'ever_married': 'int64',\n",
        "    'Residence_type':'int64'\n",
        "})"
      ],
      "execution_count": 13,
      "outputs": []
    },
    {
      "cell_type": "code",
      "metadata": {
        "id": "z3j0GyPZzns5"
      },
      "source": [
        "# RENOMBRAR COLUMNA RESIDENCE_TYPE\n",
        "\n",
        "df.rename(columns={'Residence_type': 'residence_type'}, inplace=True)"
      ],
      "execution_count": 14,
      "outputs": []
    },
    {
      "cell_type": "code",
      "metadata": {
        "id": "apZeEbpJzns6"
      },
      "source": [
        "# REORDENAR COLUMNAS\n",
        "\n",
        "df = df[['gender', 'age', 'hypertension', 'heart_disease', 'ever_married',\n",
        "       'residence_type', 'avg_glucose_level', 'bmi', 'work_type_Govt_job', \n",
        "       'work_type_Never_worked', 'work_type_Private', 'work_type_Self-employed', \n",
        "       'work_type_children', 'smoking_status_Unknown', 'smoking_status_formerly smoked',\n",
        "       'smoking_status_never smoked', 'smoking_status_smokes', 'stroke']]"
      ],
      "execution_count": 15,
      "outputs": []
    },
    {
      "cell_type": "code",
      "metadata": {
        "id": "Muf3RdAWzns9"
      },
      "source": [
        "# DIVIDIR EN TRAIN Y TEST\n",
        "\n",
        "X = df.drop('stroke', axis=1)\n",
        "y = df['stroke']\n",
        "\n",
        "X_train, X_test, y_train, y_test = train_test_split(X, y, test_size=0.2, random_state=42)"
      ],
      "execution_count": 17,
      "outputs": []
    },
    {
      "cell_type": "code",
      "metadata": {
        "id": "rz90MAfczns9"
      },
      "source": [
        "# IMPUTAR MISSINGS MEDIANTE KNN\n",
        "\n",
        "imputer = KNNImputer(n_neighbors=5)\n",
        "\n",
        "imputer.fit(X_train[['gender', 'age', 'hypertension', 'heart_disease', 'ever_married',\n",
        "       'residence_type', 'avg_glucose_level', 'bmi', 'work_type_Govt_job', \n",
        "       'work_type_Never_worked', 'work_type_Private', 'work_type_Self-employed', \n",
        "       'work_type_children', 'smoking_status_Unknown', 'smoking_status_formerly smoked',\n",
        "       'smoking_status_never smoked', 'smoking_status_smokes']])\n",
        "\n",
        "X_train[['gender', 'age', 'hypertension', 'heart_disease', 'ever_married',\n",
        "       'residence_type', 'avg_glucose_level', 'bmi', 'work_type_Govt_job', \n",
        "       'work_type_Never_worked', 'work_type_Private', 'work_type_Self-employed', \n",
        "       'work_type_children', 'smoking_status_Unknown', 'smoking_status_formerly smoked',\n",
        "       'smoking_status_never smoked', 'smoking_status_smokes']] = imputer.transform(X_train[['gender', 'age', 'hypertension',                'heart_disease', 'ever_married',\n",
        "       'residence_type', 'avg_glucose_level', 'bmi', 'work_type_Govt_job', \n",
        "       'work_type_Never_worked', 'work_type_Private', 'work_type_Self-employed', \n",
        "       'work_type_children', 'smoking_status_Unknown', 'smoking_status_formerly smoked',\n",
        "       'smoking_status_never smoked', 'smoking_status_smokes']])"
      ],
      "execution_count": 18,
      "outputs": []
    },
    {
      "cell_type": "code",
      "metadata": {
        "colab": {
          "base_uri": "https://localhost:8080/"
        },
        "id": "YlaDmNktzns-",
        "outputId": "bf3962d7-edff-416c-ca45-ed96d7922d47"
      },
      "source": [
        "# COMPROBAR QUE NO HAY MISSINGS\n",
        "\n",
        "X_train.isnull().sum()"
      ],
      "execution_count": 17,
      "outputs": [
        {
          "output_type": "execute_result",
          "data": {
            "text/plain": [
              "gender                            0\n",
              "age                               0\n",
              "hypertension                      0\n",
              "heart_disease                     0\n",
              "ever_married                      0\n",
              "residence_type                    0\n",
              "avg_glucose_level                 0\n",
              "bmi                               0\n",
              "work_type_Govt_job                0\n",
              "work_type_Never_worked            0\n",
              "work_type_Private                 0\n",
              "work_type_Self-employed           0\n",
              "work_type_children                0\n",
              "smoking_status_Unknown            0\n",
              "smoking_status_formerly smoked    0\n",
              "smoking_status_never smoked       0\n",
              "smoking_status_smokes             0\n",
              "dtype: int64"
            ]
          },
          "metadata": {
            "tags": []
          },
          "execution_count": 17
        }
      ]
    },
    {
      "cell_type": "code",
      "metadata": {
        "colab": {
          "base_uri": "https://localhost:8080/"
        },
        "id": "gbPpRx5nzns-",
        "outputId": "0542c6d9-8612-4391-bfec-b0c8b6aff507"
      },
      "source": [
        "# BALANCEAR TARGET CON SMOTE\n",
        "\n",
        "from collections import Counter\n",
        "\n",
        "counter = Counter(y_train)\n",
        "print('Antes de SMOTE', counter)\n",
        "\n",
        "smt = SMOTE(random_state=42)\n",
        "X_train_smt, y_train_smt = smt.fit_resample(X_train, y_train)\n",
        "\n",
        "counter = Counter(y_train_smt)\n",
        "print('Despues de SMOTE', counter)"
      ],
      "execution_count": 19,
      "outputs": [
        {
          "output_type": "stream",
          "name": "stdout",
          "text": [
            "Antes de SMOTE Counter({0: 3900, 1: 187})\nDespues de SMOTE Counter({0: 3900, 1: 3900})\n"
          ]
        }
      ]
    },
    {
      "cell_type": "markdown",
      "metadata": {
        "id": "bZT-I2KTzns_"
      },
      "source": [
        "# TEST"
      ]
    },
    {
      "cell_type": "code",
      "metadata": {
        "id": "lY7_hOFdzns_"
      },
      "source": [
        "# IMPUTAR MISSINGS MEDIANTE KNN\n",
        "\n",
        "imputer = KNNImputer(n_neighbors=5)\n",
        "\n",
        "imputer.fit(X_test[['gender', 'age', 'hypertension', 'heart_disease', 'ever_married',\n",
        "       'residence_type', 'avg_glucose_level', 'bmi', 'work_type_Govt_job', \n",
        "       'work_type_Never_worked', 'work_type_Private', 'work_type_Self-employed', \n",
        "       'work_type_children', 'smoking_status_Unknown', 'smoking_status_formerly smoked',\n",
        "       'smoking_status_never smoked', 'smoking_status_smokes']])\n",
        "\n",
        "X_test[['gender', 'age', 'hypertension', 'heart_disease', 'ever_married',\n",
        "       'residence_type', 'avg_glucose_level', 'bmi', 'work_type_Govt_job', \n",
        "       'work_type_Never_worked', 'work_type_Private', 'work_type_Self-employed', \n",
        "       'work_type_children', 'smoking_status_Unknown', 'smoking_status_formerly smoked',\n",
        "       'smoking_status_never smoked', 'smoking_status_smokes']] = imputer.transform(X_test[['gender', 'age', 'hypertension',                'heart_disease', 'ever_married',\n",
        "       'residence_type', 'avg_glucose_level', 'bmi', 'work_type_Govt_job', \n",
        "       'work_type_Never_worked', 'work_type_Private', 'work_type_Self-employed', \n",
        "       'work_type_children', 'smoking_status_Unknown', 'smoking_status_formerly smoked',\n",
        "       'smoking_status_never smoked', 'smoking_status_smokes']])"
      ],
      "execution_count": 20,
      "outputs": []
    },
    {
      "cell_type": "markdown",
      "metadata": {
        "id": "NQ3Cz8SUzns_"
      },
      "source": [
        "# MODELOS"
      ]
    },
    {
      "cell_type": "code",
      "metadata": {
        "id": "bX8gBY3TzntA"
      },
      "source": [
        "from sklearn.metrics import classification_report, confusion_matrix, roc_curve, auc\n",
        "from sklearn.metrics import roc_auc_score, precision_score, recall_score, f1_score"
      ],
      "execution_count": 21,
      "outputs": []
    },
    {
      "cell_type": "code",
      "metadata": {
        "colab": {
          "base_uri": "https://localhost:8080/"
        },
        "id": "luwnKq-50C4X",
        "outputId": "5947b735-e03d-4b46-c5c1-bce8bfffad8f"
      },
      "source": [
        "# LOGISTIC REGRESSION\n",
        "\n",
        "log_reg = LogisticRegression()\n",
        "\n",
        "parameters = {\n",
        "    'penalty': ['l1', 'l2'],\n",
        "    'C': [0.01, 0.1, 0.5, 1, 5, 10],\n",
        "    'max_iter': [50,100,500],\n",
        "    'solver': ['sag']\n",
        "}\n",
        "\n",
        "clf = GridSearchCV(estimator= log_reg, param_grid= parameters, n_jobs=-1, cv=10, verbose=2)\n",
        "\n",
        "clf.fit(X_train_smt, y_train_smt)"
      ],
      "execution_count": 53,
      "outputs": [
        {
          "output_type": "stream",
          "text": [
            "Fitting 10 folds for each of 36 candidates, totalling 360 fits\n"
          ],
          "name": "stdout"
        },
        {
          "output_type": "stream",
          "text": [
            "[Parallel(n_jobs=-1)]: Using backend LokyBackend with 2 concurrent workers.\n",
            "[Parallel(n_jobs=-1)]: Done  94 tasks      | elapsed:   10.6s\n",
            "[Parallel(n_jobs=-1)]: Done 322 tasks      | elapsed:   46.2s\n",
            "[Parallel(n_jobs=-1)]: Done 360 out of 360 | elapsed:   55.3s finished\n"
          ],
          "name": "stderr"
        },
        {
          "output_type": "execute_result",
          "data": {
            "text/plain": [
              "GridSearchCV(cv=10, error_score=nan,\n",
              "             estimator=LogisticRegression(C=1.0, class_weight=None, dual=False,\n",
              "                                          fit_intercept=True,\n",
              "                                          intercept_scaling=1, l1_ratio=None,\n",
              "                                          max_iter=100, multi_class='auto',\n",
              "                                          n_jobs=None, penalty='l2',\n",
              "                                          random_state=None, solver='lbfgs',\n",
              "                                          tol=0.0001, verbose=0,\n",
              "                                          warm_start=False),\n",
              "             iid='deprecated', n_jobs=-1,\n",
              "             param_grid={'C': [0.01, 0.1, 0.5, 1, 5, 10],\n",
              "                         'max_iter': [50, 100, 500], 'penalty': ['l1', 'l2'],\n",
              "                         'solver': ['sag']},\n",
              "             pre_dispatch='2*n_jobs', refit=True, return_train_score=False,\n",
              "             scoring=None, verbose=2)"
            ]
          },
          "metadata": {
            "tags": []
          },
          "execution_count": 53
        }
      ]
    },
    {
      "cell_type": "code",
      "metadata": {
        "colab": {
          "base_uri": "https://localhost:8080/"
        },
        "id": "rI1FFizv20Xy",
        "outputId": "73a04cc6-4dd8-4624-8b28-0a5340bf583f"
      },
      "source": [
        "print(clf.best_estimator_)\n",
        "print(clf.best_params_)\n",
        "print()\n",
        "print('Best score:', clf.best_score_)"
      ],
      "execution_count": 54,
      "outputs": [
        {
          "output_type": "stream",
          "text": [
            "LogisticRegression(C=10, class_weight=None, dual=False, fit_intercept=True,\n",
            "                   intercept_scaling=1, l1_ratio=None, max_iter=500,\n",
            "                   multi_class='auto', n_jobs=None, penalty='l2',\n",
            "                   random_state=None, solver='sag', tol=0.0001, verbose=0,\n",
            "                   warm_start=False)\n",
            "{'C': 10, 'max_iter': 500, 'penalty': 'l2', 'solver': 'sag'}\n",
            "\n",
            "Best score: 0.7776923076923076\n"
          ],
          "name": "stdout"
        }
      ]
    },
    {
      "cell_type": "code",
      "metadata": {
        "colab": {
          "base_uri": "https://localhost:8080/"
        },
        "id": "fy-oTUm5awa7",
        "outputId": "b3c44ce2-5e5c-4cf9-ba69-12fe42ffd327"
      },
      "source": [
        "clf.best_estimator_.score(X_test, y_test)"
      ],
      "execution_count": 55,
      "outputs": [
        {
          "output_type": "execute_result",
          "data": {
            "text/plain": [
              "0.7416829745596869"
            ]
          },
          "metadata": {
            "tags": []
          },
          "execution_count": 55
        }
      ]
    },
    {
      "cell_type": "code",
      "metadata": {
        "colab": {
          "base_uri": "https://localhost:8080/"
        },
        "id": "axkEPy5RO7Gm",
        "outputId": "1ee2914e-3e9a-473c-96b5-f4245912017d"
      },
      "source": [
        "# RANDOM FOREST\n",
        "\n",
        "rf = RandomForestClassifier()\n",
        "\n",
        "parameters = {\n",
        "    'n_estimators': [10, 100, 500, 1000],\n",
        "    'max_depth': [2,3,4],\n",
        "    'max_features': [1, 2, 3]\n",
        "}\n",
        "\n",
        "clf = GridSearchCV(estimator= rf, param_grid= parameters, n_jobs=-1, cv=10, verbose=2)\n",
        "\n",
        "clf.fit(X_train_smt, y_train_smt)"
      ],
      "execution_count": 50,
      "outputs": [
        {
          "output_type": "stream",
          "text": [
            "Fitting 10 folds for each of 18 candidates, totalling 180 fits\n"
          ],
          "name": "stdout"
        },
        {
          "output_type": "stream",
          "text": [
            "[Parallel(n_jobs=-1)]: Using backend LokyBackend with 2 concurrent workers.\n",
            "[Parallel(n_jobs=-1)]: Done  37 tasks      | elapsed:   13.2s\n",
            "[Parallel(n_jobs=-1)]: Done 158 tasks      | elapsed:  1.2min\n",
            "[Parallel(n_jobs=-1)]: Done 180 out of 180 | elapsed:  1.5min finished\n"
          ],
          "name": "stderr"
        },
        {
          "output_type": "execute_result",
          "data": {
            "text/plain": [
              "GridSearchCV(cv=10, error_score=nan,\n",
              "             estimator=RandomForestClassifier(bootstrap=True, ccp_alpha=0.0,\n",
              "                                              class_weight=None,\n",
              "                                              criterion='gini', max_depth=None,\n",
              "                                              max_features='auto',\n",
              "                                              max_leaf_nodes=None,\n",
              "                                              max_samples=None,\n",
              "                                              min_impurity_decrease=0.0,\n",
              "                                              min_impurity_split=None,\n",
              "                                              min_samples_leaf=1,\n",
              "                                              min_samples_split=2,\n",
              "                                              min_weight_fraction_leaf=0.0,\n",
              "                                              n_estimators=100, n_jobs=None,\n",
              "                                              oob_score=False,\n",
              "                                              random_state=None, verbose=0,\n",
              "                                              warm_start=False),\n",
              "             iid='deprecated', n_jobs=-1,\n",
              "             param_grid={'max_depth': [2, 3], 'max_features': [1, 2, 3],\n",
              "                         'n_estimators': [10, 100, 500]},\n",
              "             pre_dispatch='2*n_jobs', refit=True, return_train_score=False,\n",
              "             scoring=None, verbose=2)"
            ]
          },
          "metadata": {
            "tags": []
          },
          "execution_count": 50
        }
      ]
    },
    {
      "cell_type": "code",
      "metadata": {
        "colab": {
          "base_uri": "https://localhost:8080/"
        },
        "id": "P4StQPQHO9bz",
        "outputId": "c88be182-25ab-4ce2-b649-52614061168e"
      },
      "source": [
        "print(clf.best_estimator_)\n",
        "print(clf.best_params_)\n",
        "print()\n",
        "print('Best score:', clf.best_score_)"
      ],
      "execution_count": 51,
      "outputs": [
        {
          "output_type": "stream",
          "text": [
            "RandomForestClassifier(bootstrap=True, ccp_alpha=0.0, class_weight=None,\n",
            "                       criterion='gini', max_depth=3, max_features=1,\n",
            "                       max_leaf_nodes=None, max_samples=None,\n",
            "                       min_impurity_decrease=0.0, min_impurity_split=None,\n",
            "                       min_samples_leaf=1, min_samples_split=2,\n",
            "                       min_weight_fraction_leaf=0.0, n_estimators=500,\n",
            "                       n_jobs=None, oob_score=False, random_state=None,\n",
            "                       verbose=0, warm_start=False)\n",
            "{'max_depth': 3, 'max_features': 1, 'n_estimators': 500}\n",
            "\n",
            "Best score: 0.8765384615384615\n"
          ],
          "name": "stdout"
        }
      ]
    },
    {
      "cell_type": "code",
      "metadata": {
        "colab": {
          "base_uri": "https://localhost:8080/"
        },
        "id": "TZZtNUTkVy0-",
        "outputId": "c0c80fec-61cb-4a60-b849-b99cdf29b2c5"
      },
      "source": [
        "clf.best_estimator_.score(X_test, y_test)"
      ],
      "execution_count": 52,
      "outputs": [
        {
          "output_type": "execute_result",
          "data": {
            "text/plain": [
              "0.8111545988258317"
            ]
          },
          "metadata": {
            "tags": []
          },
          "execution_count": 52
        }
      ]
    },
    {
      "cell_type": "code",
      "metadata": {
        "colab": {
          "base_uri": "https://localhost:8080/"
        },
        "id": "eoO0Vt-kbYkg",
        "outputId": "6786e3d8-d1ee-45dd-faff-af34355b8ad6"
      },
      "source": [
        "# XGBOOST\n",
        "\n",
        "xgb = XGBClassifier()\n",
        "\n",
        "parameters = {\n",
        "    'n_estimators': [10, 100, 500],\n",
        "    'booster': ['gbtree'],\n",
        "    'max_depth': [2,3,4]\n",
        "}\n",
        "\n",
        "clf = GridSearchCV(estimator= xgb, param_grid= parameters, n_jobs=-1, cv=10, verbose=2)\n",
        "\n",
        "clf.fit(X_train_smt, y_train_smt)"
      ],
      "execution_count": 56,
      "outputs": [
        {
          "output_type": "stream",
          "text": [
            "Fitting 10 folds for each of 9 candidates, totalling 90 fits\n"
          ],
          "name": "stdout"
        },
        {
          "output_type": "stream",
          "text": [
            "[Parallel(n_jobs=-1)]: Using backend LokyBackend with 2 concurrent workers.\n",
            "[Parallel(n_jobs=-1)]: Done  37 tasks      | elapsed:   20.8s\n",
            "[Parallel(n_jobs=-1)]: Done  90 out of  90 | elapsed:  1.3min finished\n"
          ],
          "name": "stderr"
        },
        {
          "output_type": "execute_result",
          "data": {
            "text/plain": [
              "GridSearchCV(cv=10, error_score=nan,\n",
              "             estimator=XGBClassifier(base_score=0.5, booster='gbtree',\n",
              "                                     colsample_bylevel=1, colsample_bynode=1,\n",
              "                                     colsample_bytree=1, gamma=0,\n",
              "                                     learning_rate=0.1, max_delta_step=0,\n",
              "                                     max_depth=3, min_child_weight=1,\n",
              "                                     missing=None, n_estimators=100, n_jobs=1,\n",
              "                                     nthread=None, objective='binary:logistic',\n",
              "                                     random_state=0, reg_alpha=0, reg_lambda=1,\n",
              "                                     scale_pos_weight=1, seed=None, silent=None,\n",
              "                                     subsample=1, verbosity=1),\n",
              "             iid='deprecated', n_jobs=-1,\n",
              "             param_grid={'booster': ['gbtree'], 'max_depth': [2, 3, 4],\n",
              "                         'n_estimators': [10, 100, 500]},\n",
              "             pre_dispatch='2*n_jobs', refit=True, return_train_score=False,\n",
              "             scoring=None, verbose=2)"
            ]
          },
          "metadata": {
            "tags": []
          },
          "execution_count": 56
        }
      ]
    },
    {
      "cell_type": "code",
      "metadata": {
        "colab": {
          "base_uri": "https://localhost:8080/"
        },
        "id": "YSoesWaKblHg",
        "outputId": "2bd8fd81-5c97-405d-8191-0e59b82e2e0a"
      },
      "source": [
        "print(clf.best_estimator_)\n",
        "print(clf.best_params_)\n",
        "print()\n",
        "print('Best score:', clf.best_score_)"
      ],
      "execution_count": 57,
      "outputs": [
        {
          "output_type": "stream",
          "text": [
            "XGBClassifier(base_score=0.5, booster='gbtree', colsample_bylevel=1,\n",
            "              colsample_bynode=1, colsample_bytree=1, gamma=0,\n",
            "              learning_rate=0.1, max_delta_step=0, max_depth=2,\n",
            "              min_child_weight=1, missing=None, n_estimators=500, n_jobs=1,\n",
            "              nthread=None, objective='binary:logistic', random_state=0,\n",
            "              reg_alpha=0, reg_lambda=1, scale_pos_weight=1, seed=None,\n",
            "              silent=None, subsample=1, verbosity=1)\n",
            "{'booster': 'gbtree', 'max_depth': 2, 'n_estimators': 500}\n",
            "\n",
            "Best score: 0.9708974358974359\n"
          ],
          "name": "stdout"
        }
      ]
    },
    {
      "cell_type": "code",
      "metadata": {
        "colab": {
          "base_uri": "https://localhost:8080/",
          "height": 421
        },
        "id": "Vlf68UoLboB8",
        "outputId": "5ca784c1-f4e3-4eb8-b0dd-51437169a897"
      },
      "source": [
        "clf.best_estimator_.score(X_test, y_test)"
      ],
      "execution_count": 59,
      "outputs": [
        {
          "output_type": "error",
          "ename": "ValueError",
          "evalue": "ignored",
          "traceback": [
            "\u001b[0;31m---------------------------------------------------------------------------\u001b[0m",
            "\u001b[0;31mValueError\u001b[0m                                Traceback (most recent call last)",
            "\u001b[0;32m<ipython-input-59-c161be925740>\u001b[0m in \u001b[0;36m<module>\u001b[0;34m()\u001b[0m\n\u001b[0;32m----> 1\u001b[0;31m \u001b[0mclf\u001b[0m\u001b[0;34m.\u001b[0m\u001b[0mbest_estimator_\u001b[0m\u001b[0;34m.\u001b[0m\u001b[0mscore\u001b[0m\u001b[0;34m(\u001b[0m\u001b[0mX_test\u001b[0m\u001b[0;34m,\u001b[0m \u001b[0my_test\u001b[0m\u001b[0;34m)\u001b[0m\u001b[0;34m\u001b[0m\u001b[0;34m\u001b[0m\u001b[0m\n\u001b[0m",
            "\u001b[0;32m/usr/local/lib/python3.7/dist-packages/sklearn/base.py\u001b[0m in \u001b[0;36mscore\u001b[0;34m(self, X, y, sample_weight)\u001b[0m\n\u001b[1;32m    367\u001b[0m         \"\"\"\n\u001b[1;32m    368\u001b[0m         \u001b[0;32mfrom\u001b[0m \u001b[0;34m.\u001b[0m\u001b[0mmetrics\u001b[0m \u001b[0;32mimport\u001b[0m \u001b[0maccuracy_score\u001b[0m\u001b[0;34m\u001b[0m\u001b[0;34m\u001b[0m\u001b[0m\n\u001b[0;32m--> 369\u001b[0;31m         \u001b[0;32mreturn\u001b[0m \u001b[0maccuracy_score\u001b[0m\u001b[0;34m(\u001b[0m\u001b[0my\u001b[0m\u001b[0;34m,\u001b[0m \u001b[0mself\u001b[0m\u001b[0;34m.\u001b[0m\u001b[0mpredict\u001b[0m\u001b[0;34m(\u001b[0m\u001b[0mX\u001b[0m\u001b[0;34m)\u001b[0m\u001b[0;34m,\u001b[0m \u001b[0msample_weight\u001b[0m\u001b[0;34m=\u001b[0m\u001b[0msample_weight\u001b[0m\u001b[0;34m)\u001b[0m\u001b[0;34m\u001b[0m\u001b[0;34m\u001b[0m\u001b[0m\n\u001b[0m\u001b[1;32m    370\u001b[0m \u001b[0;34m\u001b[0m\u001b[0m\n\u001b[1;32m    371\u001b[0m \u001b[0;34m\u001b[0m\u001b[0m\n",
            "\u001b[0;32m/usr/local/lib/python3.7/dist-packages/xgboost/sklearn.py\u001b[0m in \u001b[0;36mpredict\u001b[0;34m(self, data, output_margin, ntree_limit, validate_features)\u001b[0m\n\u001b[1;32m    789\u001b[0m                                                  \u001b[0moutput_margin\u001b[0m\u001b[0;34m=\u001b[0m\u001b[0moutput_margin\u001b[0m\u001b[0;34m,\u001b[0m\u001b[0;34m\u001b[0m\u001b[0;34m\u001b[0m\u001b[0m\n\u001b[1;32m    790\u001b[0m                                                  \u001b[0mntree_limit\u001b[0m\u001b[0;34m=\u001b[0m\u001b[0mntree_limit\u001b[0m\u001b[0;34m,\u001b[0m\u001b[0;34m\u001b[0m\u001b[0;34m\u001b[0m\u001b[0m\n\u001b[0;32m--> 791\u001b[0;31m                                                  validate_features=validate_features)\n\u001b[0m\u001b[1;32m    792\u001b[0m         \u001b[0;32mif\u001b[0m \u001b[0moutput_margin\u001b[0m\u001b[0;34m:\u001b[0m\u001b[0;34m\u001b[0m\u001b[0;34m\u001b[0m\u001b[0m\n\u001b[1;32m    793\u001b[0m             \u001b[0;31m# If output_margin is active, simply return the scores\u001b[0m\u001b[0;34m\u001b[0m\u001b[0;34m\u001b[0m\u001b[0;34m\u001b[0m\u001b[0m\n",
            "\u001b[0;32m/usr/local/lib/python3.7/dist-packages/xgboost/core.py\u001b[0m in \u001b[0;36mpredict\u001b[0;34m(self, data, output_margin, ntree_limit, pred_leaf, pred_contribs, approx_contribs, pred_interactions, validate_features)\u001b[0m\n\u001b[1;32m   1282\u001b[0m \u001b[0;34m\u001b[0m\u001b[0m\n\u001b[1;32m   1283\u001b[0m         \u001b[0;32mif\u001b[0m \u001b[0mvalidate_features\u001b[0m\u001b[0;34m:\u001b[0m\u001b[0;34m\u001b[0m\u001b[0;34m\u001b[0m\u001b[0m\n\u001b[0;32m-> 1284\u001b[0;31m             \u001b[0mself\u001b[0m\u001b[0;34m.\u001b[0m\u001b[0m_validate_features\u001b[0m\u001b[0;34m(\u001b[0m\u001b[0mdata\u001b[0m\u001b[0;34m)\u001b[0m\u001b[0;34m\u001b[0m\u001b[0;34m\u001b[0m\u001b[0m\n\u001b[0m\u001b[1;32m   1285\u001b[0m \u001b[0;34m\u001b[0m\u001b[0m\n\u001b[1;32m   1286\u001b[0m         \u001b[0mlength\u001b[0m \u001b[0;34m=\u001b[0m \u001b[0mc_bst_ulong\u001b[0m\u001b[0;34m(\u001b[0m\u001b[0;34m)\u001b[0m\u001b[0;34m\u001b[0m\u001b[0;34m\u001b[0m\u001b[0m\n",
            "\u001b[0;32m/usr/local/lib/python3.7/dist-packages/xgboost/core.py\u001b[0m in \u001b[0;36m_validate_features\u001b[0;34m(self, data)\u001b[0m\n\u001b[1;32m   1688\u001b[0m \u001b[0;34m\u001b[0m\u001b[0m\n\u001b[1;32m   1689\u001b[0m                 raise ValueError(msg.format(self.feature_names,\n\u001b[0;32m-> 1690\u001b[0;31m                                             data.feature_names))\n\u001b[0m\u001b[1;32m   1691\u001b[0m \u001b[0;34m\u001b[0m\u001b[0m\n\u001b[1;32m   1692\u001b[0m     \u001b[0;32mdef\u001b[0m \u001b[0mget_split_value_histogram\u001b[0m\u001b[0;34m(\u001b[0m\u001b[0mself\u001b[0m\u001b[0;34m,\u001b[0m \u001b[0mfeature\u001b[0m\u001b[0;34m,\u001b[0m \u001b[0mfmap\u001b[0m\u001b[0;34m=\u001b[0m\u001b[0;34m''\u001b[0m\u001b[0;34m,\u001b[0m \u001b[0mbins\u001b[0m\u001b[0;34m=\u001b[0m\u001b[0;32mNone\u001b[0m\u001b[0;34m,\u001b[0m \u001b[0mas_pandas\u001b[0m\u001b[0;34m=\u001b[0m\u001b[0;32mTrue\u001b[0m\u001b[0;34m)\u001b[0m\u001b[0;34m:\u001b[0m\u001b[0;34m\u001b[0m\u001b[0;34m\u001b[0m\u001b[0m\n",
            "\u001b[0;31mValueError\u001b[0m: feature_names mismatch: ['f0', 'f1', 'f2', 'f3', 'f4', 'f5', 'f6', 'f7', 'f8', 'f9', 'f10', 'f11', 'f12', 'f13', 'f14', 'f15', 'f16'] ['gender', 'age', 'hypertension', 'heart_disease', 'ever_married', 'residence_type', 'avg_glucose_level', 'bmi', 'work_type_Govt_job', 'work_type_Never_worked', 'work_type_Private', 'work_type_Self-employed', 'work_type_children', 'smoking_status_Unknown', 'smoking_status_formerly smoked', 'smoking_status_never smoked', 'smoking_status_smokes']\nexpected f1, f14, f13, f4, f15, f16, f5, f6, f0, f7, f8, f10, f11, f2, f9, f12, f3 in input data\ntraining data did not have the following fields: bmi, work_type_Never_worked, work_type_children, smoking_status_smokes, hypertension, smoking_status_Unknown, avg_glucose_level, residence_type, heart_disease, age, work_type_Private, gender, work_type_Self-employed, smoking_status_formerly smoked, work_type_Govt_job, ever_married, smoking_status_never smoked"
          ]
        }
      ]
    },
    {
      "cell_type": "code",
      "execution_count": null,
      "metadata": {},
      "outputs": [],
      "source": [
        "pipe = Pipeline(steps=[\n",
        "    ('classifier', RandomForestClassifier())\n",
        "])\n",
        "\n",
        "logistic_params = {\n",
        "    'classifier': [LogisticRegression()],\n",
        "    'classifier__penalty': ['l1', 'l2'],\n",
        "    'classifier__C': [0.01, 0.1, 0.5, 1],\n",
        "    'classifier__max_iter': [50,100,500],\n",
        "    'classifier__solver': ['sag']\n",
        "}\n",
        "\n",
        "random_forest_params = {\n",
        "    'classifier': [RandomForestClassifier()],\n",
        "    'classifier__n_estimators': [10, 100, 500],\n",
        "    'classifier__max_features': [1,2,3],\n",
        "    'classifier__max_depth': [1,2,3]\n",
        "}\n",
        "\n",
        "svm_params = {\n",
        "    'classifier': [SVC()],\n",
        "    'classifier__kernel': ('linear', 'rbf', 'sigmoid'),\n",
        "    'classifier__C': [0.1, 0.5, 1],\n",
        "    'classifier__gamma': ('scale', 'auto')\n",
        "}\n",
        "\n",
        "search_space = [\n",
        "    logistic_params,\n",
        "    random_forest_params,\n",
        "    svm_params\n",
        "]\n",
        "\n",
        "clf = GridSearchCV(estimator=pipe, param_grid=search_space, cv=10, verbose=1, n_jobs=-1)\n",
        "\n",
        "clf.fit(X_train_smt, y_train_smt)"
      ]
    }
  ]
}