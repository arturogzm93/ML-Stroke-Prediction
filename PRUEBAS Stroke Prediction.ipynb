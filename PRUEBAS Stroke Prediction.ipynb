{
 "cells": [
  {
   "cell_type": "code",
   "execution_count": 1,
   "metadata": {
    "id": "fYbK-U5Eznsp"
   },
   "outputs": [],
   "source": [
    "# CARAR LIBRERIAS\n",
    "\n",
    "import pandas as pd\n",
    "import numpy as np\n",
    "import seaborn as sns\n",
    "import matplotlib.pyplot as plt\n",
    "import warnings\n",
    "warnings.filterwarnings(\"ignore\")\n",
    "\n",
    "from sklearn.model_selection import train_test_split\n",
    "from sklearn.impute import KNNImputer\n",
    "from imblearn.over_sampling import SMOTE\n",
    "from sklearn.pipeline import Pipeline\n",
    "from sklearn.model_selection import GridSearchCV\n",
    "\n",
    "from sklearn.ensemble import RandomForestClassifier\n",
    "from sklearn.linear_model import LogisticRegression\n",
    "from sklearn.svm import SVC\n",
    "from xgboost import XGBClassifier\n",
    "\n",
    "from sklearn.metrics import accuracy_score, f1_score, recall_score, roc_auc_score, confusion_matrix"
   ]
  },
  {
   "cell_type": "code",
   "execution_count": 2,
   "metadata": {
    "colab": {
     "base_uri": "https://localhost:8080/",
     "height": 195
    },
    "id": "K4pAVFJiznsz",
    "outputId": "46115bc5-bc3e-4044-abf6-dfe7d7bed7b8"
   },
   "outputs": [
    {
     "data": {
      "text/html": [
       "<div>\n",
       "<style scoped>\n",
       "    .dataframe tbody tr th:only-of-type {\n",
       "        vertical-align: middle;\n",
       "    }\n",
       "\n",
       "    .dataframe tbody tr th {\n",
       "        vertical-align: top;\n",
       "    }\n",
       "\n",
       "    .dataframe thead th {\n",
       "        text-align: right;\n",
       "    }\n",
       "</style>\n",
       "<table border=\"1\" class=\"dataframe\">\n",
       "  <thead>\n",
       "    <tr style=\"text-align: right;\">\n",
       "      <th></th>\n",
       "      <th>id</th>\n",
       "      <th>gender</th>\n",
       "      <th>age</th>\n",
       "      <th>hypertension</th>\n",
       "      <th>heart_disease</th>\n",
       "      <th>ever_married</th>\n",
       "      <th>work_type</th>\n",
       "      <th>Residence_type</th>\n",
       "      <th>avg_glucose_level</th>\n",
       "      <th>bmi</th>\n",
       "      <th>smoking_status</th>\n",
       "      <th>stroke</th>\n",
       "    </tr>\n",
       "  </thead>\n",
       "  <tbody>\n",
       "    <tr>\n",
       "      <th>0</th>\n",
       "      <td>9046</td>\n",
       "      <td>Male</td>\n",
       "      <td>67.0</td>\n",
       "      <td>0</td>\n",
       "      <td>1</td>\n",
       "      <td>Yes</td>\n",
       "      <td>Private</td>\n",
       "      <td>Urban</td>\n",
       "      <td>228.69</td>\n",
       "      <td>36.6</td>\n",
       "      <td>formerly smoked</td>\n",
       "      <td>1</td>\n",
       "    </tr>\n",
       "    <tr>\n",
       "      <th>1</th>\n",
       "      <td>51676</td>\n",
       "      <td>Female</td>\n",
       "      <td>61.0</td>\n",
       "      <td>0</td>\n",
       "      <td>0</td>\n",
       "      <td>Yes</td>\n",
       "      <td>Self-employed</td>\n",
       "      <td>Rural</td>\n",
       "      <td>202.21</td>\n",
       "      <td>NaN</td>\n",
       "      <td>never smoked</td>\n",
       "      <td>1</td>\n",
       "    </tr>\n",
       "    <tr>\n",
       "      <th>2</th>\n",
       "      <td>31112</td>\n",
       "      <td>Male</td>\n",
       "      <td>80.0</td>\n",
       "      <td>0</td>\n",
       "      <td>1</td>\n",
       "      <td>Yes</td>\n",
       "      <td>Private</td>\n",
       "      <td>Rural</td>\n",
       "      <td>105.92</td>\n",
       "      <td>32.5</td>\n",
       "      <td>never smoked</td>\n",
       "      <td>1</td>\n",
       "    </tr>\n",
       "    <tr>\n",
       "      <th>3</th>\n",
       "      <td>60182</td>\n",
       "      <td>Female</td>\n",
       "      <td>49.0</td>\n",
       "      <td>0</td>\n",
       "      <td>0</td>\n",
       "      <td>Yes</td>\n",
       "      <td>Private</td>\n",
       "      <td>Urban</td>\n",
       "      <td>171.23</td>\n",
       "      <td>34.4</td>\n",
       "      <td>smokes</td>\n",
       "      <td>1</td>\n",
       "    </tr>\n",
       "    <tr>\n",
       "      <th>4</th>\n",
       "      <td>1665</td>\n",
       "      <td>Female</td>\n",
       "      <td>79.0</td>\n",
       "      <td>1</td>\n",
       "      <td>0</td>\n",
       "      <td>Yes</td>\n",
       "      <td>Self-employed</td>\n",
       "      <td>Rural</td>\n",
       "      <td>174.12</td>\n",
       "      <td>24.0</td>\n",
       "      <td>never smoked</td>\n",
       "      <td>1</td>\n",
       "    </tr>\n",
       "  </tbody>\n",
       "</table>\n",
       "</div>"
      ],
      "text/plain": [
       "      id  gender   age  hypertension  heart_disease ever_married  \\\n",
       "0   9046    Male  67.0             0              1          Yes   \n",
       "1  51676  Female  61.0             0              0          Yes   \n",
       "2  31112    Male  80.0             0              1          Yes   \n",
       "3  60182  Female  49.0             0              0          Yes   \n",
       "4   1665  Female  79.0             1              0          Yes   \n",
       "\n",
       "       work_type Residence_type  avg_glucose_level   bmi   smoking_status  \\\n",
       "0        Private          Urban             228.69  36.6  formerly smoked   \n",
       "1  Self-employed          Rural             202.21   NaN     never smoked   \n",
       "2        Private          Rural             105.92  32.5     never smoked   \n",
       "3        Private          Urban             171.23  34.4           smokes   \n",
       "4  Self-employed          Rural             174.12  24.0     never smoked   \n",
       "\n",
       "   stroke  \n",
       "0       1  \n",
       "1       1  \n",
       "2       1  \n",
       "3       1  \n",
       "4       1  "
      ]
     },
     "execution_count": 2,
     "metadata": {},
     "output_type": "execute_result"
    }
   ],
   "source": [
    "# CARGAR BASE DE DATOS\n",
    "\n",
    "df = pd.read_csv('../BBDD/healthcare-dataset-stroke-data.csv')\n",
    "df.head()"
   ]
  },
  {
   "cell_type": "code",
   "execution_count": 3,
   "metadata": {
    "id": "vXpE72wrzns1"
   },
   "outputs": [],
   "source": [
    "# BORRAR COLUMNA ID\n",
    "\n",
    "df.drop(columns='id', inplace=True)"
   ]
  },
  {
   "cell_type": "code",
   "execution_count": 4,
   "metadata": {
    "colab": {
     "base_uri": "https://localhost:8080/"
    },
    "id": "wQjqRyKFzns1",
    "outputId": "0b14830e-f668-485c-adf2-73ff37a9b4b8"
   },
   "outputs": [
    {
     "name": "stdout",
     "output_type": "stream",
     "text": [
      "gender                 0\n",
      "age                    0\n",
      "hypertension           0\n",
      "heart_disease          0\n",
      "ever_married           0\n",
      "work_type              0\n",
      "Residence_type         0\n",
      "avg_glucose_level      0\n",
      "bmi                  201\n",
      "smoking_status         0\n",
      "stroke                 0\n",
      "dtype: int64\n",
      "\n",
      "gender               0.000000\n",
      "age                  0.000000\n",
      "hypertension         0.000000\n",
      "heart_disease        0.000000\n",
      "ever_married         0.000000\n",
      "work_type            0.000000\n",
      "Residence_type       0.000000\n",
      "avg_glucose_level    0.000000\n",
      "bmi                  3.933464\n",
      "smoking_status       0.000000\n",
      "stroke               0.000000\n",
      "dtype: float64\n"
     ]
    }
   ],
   "source": [
    "# COMPROBAR NANS Y PORCENTAJE\n",
    "\n",
    "print(df.isnull().sum())\n",
    "print('')\n",
    "print(df.isnull().sum() / len(df) * 100)"
   ]
  },
  {
   "cell_type": "code",
   "execution_count": 5,
   "metadata": {
    "colab": {
     "base_uri": "https://localhost:8080/"
    },
    "id": "S9Rsa9vtzns2",
    "outputId": "517b363c-42d6-4c19-eddf-04a7b765c48e"
   },
   "outputs": [
    {
     "name": "stdout",
     "output_type": "stream",
     "text": [
      "gender               249\n",
      "age                  249\n",
      "hypertension         249\n",
      "heart_disease        249\n",
      "ever_married         249\n",
      "work_type            249\n",
      "Residence_type       249\n",
      "avg_glucose_level    249\n",
      "bmi                  209\n",
      "smoking_status       249\n",
      "stroke               249\n",
      "dtype: int64\n",
      " \n",
      "gender                0\n",
      "age                   0\n",
      "hypertension          0\n",
      "heart_disease         0\n",
      "ever_married          0\n",
      "work_type             0\n",
      "Residence_type        0\n",
      "avg_glucose_level     0\n",
      "bmi                  40\n",
      "smoking_status        0\n",
      "stroke                0\n",
      "dtype: int64\n"
     ]
    }
   ],
   "source": [
    "# TOTAL DE MISSINGS EN STROKE = 1\n",
    "\n",
    "print(df[df['stroke'] == 1].count())\n",
    "print(' ')\n",
    "print(df[df['stroke'] == 1].isnull().sum())"
   ]
  },
  {
   "cell_type": "code",
   "execution_count": 6,
   "metadata": {
    "id": "f8XcW6UCzns2"
   },
   "outputs": [],
   "source": [
    "# SUSTITUIR EN COLUMNA 'GENDER' FEMALE POR 0 Y MALE POR 1\n",
    "\n",
    "df.loc[df['gender'] == 'Female', 'gender'] = 0\n",
    "df.loc[df['gender'] == 'Male', 'gender'] = 1\n",
    "\n",
    "# SUSTITUIR EN COLUMNA 'EVER_MARRIED' NO POR 0 Y YES POR 1\n",
    "\n",
    "df.loc[df['ever_married'] == 'No', 'ever_married'] = 0\n",
    "df.loc[df['ever_married'] == 'Yes', 'ever_married'] = 1\n",
    "\n",
    "# SUSTITUIR EN COLUMNA 'RESIDENCE TYPE' RURAL POR 0 Y URBAN POR 1\n",
    "\n",
    "df.loc[df['Residence_type'] == 'Rural', 'Residence_type'] = 0\n",
    "df.loc[df['Residence_type'] == 'Urban', 'Residence_type'] = 1"
   ]
  },
  {
   "cell_type": "code",
   "execution_count": 7,
   "metadata": {
    "id": "GKHeVJ7czns3"
   },
   "outputs": [],
   "source": [
    "# BORRAR FILA CON GENDER 'OTHER'\n",
    "\n",
    "df.drop(index= 3116, inplace=True)\n",
    "\n",
    "# RESETEAR LOS VALORES DEL INDICE\n",
    "\n",
    "df.reset_index(drop = True, inplace = True)"
   ]
  },
  {
   "cell_type": "code",
   "execution_count": 8,
   "metadata": {
    "id": "pSFRTK6Zzns4"
   },
   "outputs": [],
   "source": [
    "# SEPARAR EN DISTINTAS COLUMNAS LAS DIFERENTES CATEGORIAS DE 'WORK TYPE' Y 'SMOKING STATUS'\n",
    "\n",
    "df = pd.get_dummies(data=df, columns=['work_type', 'smoking_status'])"
   ]
  },
  {
   "cell_type": "code",
   "execution_count": 9,
   "metadata": {
    "id": "y2yltquAzns5"
   },
   "outputs": [],
   "source": [
    "# CAMBIAR TIPOS EN COLUMNAS\n",
    "\n",
    "df = df.astype({\n",
    "    'gender': 'int64',\n",
    "    'age': 'int64',\n",
    "    'ever_married': 'int64',\n",
    "    'Residence_type':'int64'\n",
    "})"
   ]
  },
  {
   "cell_type": "code",
   "execution_count": 10,
   "metadata": {
    "id": "z3j0GyPZzns5"
   },
   "outputs": [],
   "source": [
    "# RENOMBRAR COLUMNA RESIDENCE_TYPE\n",
    "\n",
    "df.rename(columns={'Residence_type': 'residence_type'}, inplace=True)"
   ]
  },
  {
   "cell_type": "code",
   "execution_count": 11,
   "metadata": {
    "id": "apZeEbpJzns6"
   },
   "outputs": [],
   "source": [
    "# REORDENAR COLUMNAS\n",
    "\n",
    "df = df[['gender', 'age', 'hypertension', 'heart_disease', 'ever_married',\n",
    "       'residence_type', 'avg_glucose_level', 'bmi', 'work_type_Govt_job', \n",
    "       'work_type_Never_worked', 'work_type_Private', 'work_type_Self-employed', \n",
    "       'work_type_children', 'smoking_status_Unknown', 'smoking_status_formerly smoked',\n",
    "       'smoking_status_never smoked', 'smoking_status_smokes', 'stroke']]"
   ]
  },
  {
   "cell_type": "code",
   "execution_count": 12,
   "metadata": {
    "id": "Muf3RdAWzns9"
   },
   "outputs": [],
   "source": [
    "# DIVIDIR EN TRAIN Y TEST\n",
    "\n",
    "X = df.drop('stroke', axis=1)\n",
    "y = df['stroke']\n",
    "\n",
    "X_train, X_test, y_train, y_test = train_test_split(X, y, test_size=0.2, random_state=42)"
   ]
  },
  {
   "cell_type": "code",
   "execution_count": 13,
   "metadata": {
    "id": "rz90MAfczns9"
   },
   "outputs": [],
   "source": [
    "# IMPUTAR MISSINGS MEDIANTE KNN\n",
    "\n",
    "imputer = KNNImputer(n_neighbors=5)\n",
    "\n",
    "imputer.fit(X_train[['gender', 'age', 'hypertension', 'heart_disease', 'ever_married',\n",
    "       'residence_type', 'avg_glucose_level', 'bmi', 'work_type_Govt_job', \n",
    "       'work_type_Never_worked', 'work_type_Private', 'work_type_Self-employed', \n",
    "       'work_type_children', 'smoking_status_Unknown', 'smoking_status_formerly smoked',\n",
    "       'smoking_status_never smoked', 'smoking_status_smokes']])\n",
    "\n",
    "X_train[['gender', 'age', 'hypertension', 'heart_disease', 'ever_married',\n",
    "       'residence_type', 'avg_glucose_level', 'bmi', 'work_type_Govt_job', \n",
    "       'work_type_Never_worked', 'work_type_Private', 'work_type_Self-employed', \n",
    "       'work_type_children', 'smoking_status_Unknown', 'smoking_status_formerly smoked',\n",
    "       'smoking_status_never smoked', 'smoking_status_smokes']] = imputer.transform(X_train[['gender', 'age', 'hypertension',                'heart_disease', 'ever_married',\n",
    "       'residence_type', 'avg_glucose_level', 'bmi', 'work_type_Govt_job', \n",
    "       'work_type_Never_worked', 'work_type_Private', 'work_type_Self-employed', \n",
    "       'work_type_children', 'smoking_status_Unknown', 'smoking_status_formerly smoked',\n",
    "       'smoking_status_never smoked', 'smoking_status_smokes']])"
   ]
  },
  {
   "cell_type": "code",
   "execution_count": 14,
   "metadata": {
    "colab": {
     "base_uri": "https://localhost:8080/"
    },
    "id": "YlaDmNktzns-",
    "outputId": "bf3962d7-edff-416c-ca45-ed96d7922d47"
   },
   "outputs": [
    {
     "data": {
      "text/plain": [
       "gender                            0\n",
       "age                               0\n",
       "hypertension                      0\n",
       "heart_disease                     0\n",
       "ever_married                      0\n",
       "residence_type                    0\n",
       "avg_glucose_level                 0\n",
       "bmi                               0\n",
       "work_type_Govt_job                0\n",
       "work_type_Never_worked            0\n",
       "work_type_Private                 0\n",
       "work_type_Self-employed           0\n",
       "work_type_children                0\n",
       "smoking_status_Unknown            0\n",
       "smoking_status_formerly smoked    0\n",
       "smoking_status_never smoked       0\n",
       "smoking_status_smokes             0\n",
       "dtype: int64"
      ]
     },
     "execution_count": 14,
     "metadata": {},
     "output_type": "execute_result"
    }
   ],
   "source": [
    "# COMPROBAR QUE NO HAY MISSINGS\n",
    "\n",
    "X_train.isnull().sum()"
   ]
  },
  {
   "cell_type": "code",
   "execution_count": 15,
   "metadata": {
    "colab": {
     "base_uri": "https://localhost:8080/"
    },
    "id": "gbPpRx5nzns-",
    "outputId": "0542c6d9-8612-4391-bfec-b0c8b6aff507"
   },
   "outputs": [
    {
     "name": "stdout",
     "output_type": "stream",
     "text": [
      "Antes de SMOTE Counter({0: 3900, 1: 187})\n",
      "Despues de SMOTE Counter({0: 3900, 1: 3900})\n"
     ]
    }
   ],
   "source": [
    "# BALANCEAR TARGET CON SMOTE\n",
    "\n",
    "from collections import Counter\n",
    "\n",
    "counter = Counter(y_train)\n",
    "print('Antes de SMOTE', counter)\n",
    "\n",
    "smt = SMOTE(random_state=42)\n",
    "X_train_smt, y_train_smt = smt.fit_resample(X_train, y_train)\n",
    "\n",
    "counter = Counter(y_train_smt)\n",
    "print('Despues de SMOTE', counter)"
   ]
  },
  {
   "cell_type": "markdown",
   "metadata": {
    "id": "bZT-I2KTzns_"
   },
   "source": [
    "# TEST"
   ]
  },
  {
   "cell_type": "code",
   "execution_count": 16,
   "metadata": {
    "id": "lY7_hOFdzns_"
   },
   "outputs": [],
   "source": [
    "# IMPUTAR MISSINGS MEDIANTE KNN\n",
    "\n",
    "imputer = KNNImputer(n_neighbors=5)\n",
    "\n",
    "imputer.fit(X_test[['gender', 'age', 'hypertension', 'heart_disease', 'ever_married',\n",
    "       'residence_type', 'avg_glucose_level', 'bmi', 'work_type_Govt_job', \n",
    "       'work_type_Never_worked', 'work_type_Private', 'work_type_Self-employed', \n",
    "       'work_type_children', 'smoking_status_Unknown', 'smoking_status_formerly smoked',\n",
    "       'smoking_status_never smoked', 'smoking_status_smokes']])\n",
    "\n",
    "X_test[['gender', 'age', 'hypertension', 'heart_disease', 'ever_married',\n",
    "       'residence_type', 'avg_glucose_level', 'bmi', 'work_type_Govt_job', \n",
    "       'work_type_Never_worked', 'work_type_Private', 'work_type_Self-employed', \n",
    "       'work_type_children', 'smoking_status_Unknown', 'smoking_status_formerly smoked',\n",
    "       'smoking_status_never smoked', 'smoking_status_smokes']] = imputer.transform(X_test[['gender', 'age', 'hypertension',                'heart_disease', 'ever_married',\n",
    "       'residence_type', 'avg_glucose_level', 'bmi', 'work_type_Govt_job', \n",
    "       'work_type_Never_worked', 'work_type_Private', 'work_type_Self-employed', \n",
    "       'work_type_children', 'smoking_status_Unknown', 'smoking_status_formerly smoked',\n",
    "       'smoking_status_never smoked', 'smoking_status_smokes']])"
   ]
  },
  {
   "cell_type": "markdown",
   "metadata": {
    "id": "NQ3Cz8SUzns_"
   },
   "source": [
    "# MODELOS"
   ]
  },
  {
   "cell_type": "code",
   "execution_count": 17,
   "metadata": {
    "id": "bX8gBY3TzntA"
   },
   "outputs": [],
   "source": [
    "from sklearn.metrics import classification_report, confusion_matrix, roc_curve, auc\n",
    "from sklearn.metrics import roc_auc_score, precision_score, recall_score, f1_score"
   ]
  },
  {
   "cell_type": "code",
   "execution_count": 85,
   "metadata": {
    "colab": {
     "base_uri": "https://localhost:8080/"
    },
    "id": "luwnKq-50C4X",
    "outputId": "5947b735-e03d-4b46-c5c1-bce8bfffad8f"
   },
   "outputs": [
    {
     "name": "stdout",
     "output_type": "stream",
     "text": [
      "Fitting 10 folds for each of 36 candidates, totalling 360 fits\n",
      "LogisticRegression(C=10, max_iter=500, solver='sag')\n",
      "\n",
      "{'C': 10, 'max_iter': 500, 'penalty': 'l2', 'solver': 'sag'}\n",
      "\n",
      "Best score: 0.8499335963182117\n"
     ]
    },
    {
     "data": {
      "text/plain": [
       "0.7416829745596869"
      ]
     },
     "execution_count": 85,
     "metadata": {},
     "output_type": "execute_result"
    }
   ],
   "source": [
    "# LOGISTIC REGRESSION\n",
    "\n",
    "log_reg = LogisticRegression()\n",
    "\n",
    "parameters = {\n",
    "    'penalty': ['l1', 'l2'],\n",
    "    'C': [0.01, 0.1, 0.5, 1, 5, 10],\n",
    "    'max_iter': [50,100,500],\n",
    "    'solver': ['sag']\n",
    "}\n",
    "\n",
    "clf = GridSearchCV(estimator= log_reg, param_grid= parameters, n_jobs=-1, cv=10, verbose=2, scoring='roc_auc')\n",
    "\n",
    "clf.fit(X_train_smt, y_train_smt)\n",
    "\n",
    "print(clf.best_estimator_)\n",
    "print()\n",
    "print(clf.best_params_)\n",
    "print()\n",
    "print('Best score:', clf.best_score_)\n",
    "\n",
    "clf.best_estimator_.score(X_test, y_test)"
   ]
  },
  {
   "cell_type": "code",
   "execution_count": 84,
   "metadata": {
    "colab": {
     "base_uri": "https://localhost:8080/"
    },
    "id": "axkEPy5RO7Gm",
    "outputId": "1ee2914e-3e9a-473c-96b5-f4245912017d"
   },
   "outputs": [
    {
     "name": "stdout",
     "output_type": "stream",
     "text": [
      "Fitting 10 folds for each of 27 candidates, totalling 270 fits\n",
      "RandomForestClassifier(max_depth=4, max_features=3, n_estimators=500)\n",
      "\n",
      "{'max_depth': 4, 'max_features': 3, 'n_estimators': 500}\n",
      "\n",
      "Best score: 0.9708172255095333\n"
     ]
    },
    {
     "data": {
      "text/plain": [
       "0.8101761252446184"
      ]
     },
     "execution_count": 84,
     "metadata": {},
     "output_type": "execute_result"
    }
   ],
   "source": [
    "# RANDOM FOREST\n",
    "\n",
    "rf = RandomForestClassifier()\n",
    "\n",
    "parameters = {\n",
    "    'n_estimators': [10, 100, 500],\n",
    "    'max_depth': [2,3,4],\n",
    "    'max_features': [1, 2, 3]\n",
    "}\n",
    "\n",
    "clf = GridSearchCV(estimator= rf, param_grid= parameters, n_jobs=-1, cv=10, verbose=2, scoring='roc_auc')\n",
    "\n",
    "clf.fit(X_train_smt, y_train_smt)\n",
    "\n",
    "print(clf.best_estimator_)\n",
    "print()\n",
    "print(clf.best_params_)\n",
    "print()\n",
    "print('Best score:', clf.best_score_)\n",
    "\n",
    "clf.best_estimator_.score(X_test, y_test)"
   ]
  },
  {
   "cell_type": "code",
   "execution_count": 83,
   "metadata": {
    "colab": {
     "base_uri": "https://localhost:8080/"
    },
    "id": "eoO0Vt-kbYkg",
    "outputId": "6786e3d8-d1ee-45dd-faff-af34355b8ad6"
   },
   "outputs": [
    {
     "name": "stdout",
     "output_type": "stream",
     "text": [
      "Fitting 10 folds for each of 9 candidates, totalling 90 fits\n",
      "[16:31:22] WARNING: C:/Users/Administrator/workspace/xgboost-win64_release_1.3.0/src/learner.cc:1061: Starting in XGBoost 1.3.0, the default evaluation metric used with the objective 'binary:logistic' was changed from 'error' to 'logloss'. Explicitly set eval_metric if you'd like to restore the old behavior.\n",
      "XGBClassifier(base_score=0.5, booster='gbtree', colsample_bylevel=1,\n",
      "              colsample_bynode=1, colsample_bytree=1, gamma=0, gpu_id=-1,\n",
      "              importance_type='gain', interaction_constraints='',\n",
      "              learning_rate=0.300000012, max_delta_step=0, max_depth=4,\n",
      "              min_child_weight=1, missing=nan, monotone_constraints='()',\n",
      "              n_estimators=500, n_jobs=4, num_parallel_tree=1, random_state=0,\n",
      "              reg_alpha=0, reg_lambda=1, scale_pos_weight=1, subsample=1,\n",
      "              tree_method='exact', validate_parameters=1, verbosity=None)\n",
      "\n",
      "{'booster': 'gbtree', 'max_depth': 4, 'n_estimators': 500}\n",
      "\n",
      "Best score: 0.9905963182117029\n"
     ]
    },
    {
     "data": {
      "text/plain": [
       "0.9207436399217221"
      ]
     },
     "execution_count": 83,
     "metadata": {},
     "output_type": "execute_result"
    }
   ],
   "source": [
    "# XGBOOST\n",
    "\n",
    "xgb = XGBClassifier()\n",
    "\n",
    "parameters = {\n",
    "    'n_estimators': [10, 100, 500],\n",
    "    'booster': ['gbtree'],\n",
    "    'max_depth': [2,3,4]\n",
    "}\n",
    "\n",
    "clf = GridSearchCV(estimator= xgb, param_grid= parameters, n_jobs=-1, cv=10, verbose=2, scoring='roc_auc')\n",
    "\n",
    "clf.fit(X_train_smt, y_train_smt)\n",
    "\n",
    "print(clf.best_estimator_)\n",
    "print()\n",
    "print(clf.best_params_)\n",
    "print()\n",
    "print('Best score:', clf.best_score_)\n",
    "\n",
    "clf.best_estimator_.score(X_test, y_test)"
   ]
  },
  {
   "cell_type": "code",
   "execution_count": 81,
   "metadata": {},
   "outputs": [
    {
     "name": "stdout",
     "output_type": "stream",
     "text": [
      "Fitting 10 folds for each of 6 candidates, totalling 60 fits\n",
      "[16:29:28] WARNING: C:/Users/Administrator/workspace/xgboost-win64_release_1.3.0/src/learner.cc:1061: Starting in XGBoost 1.3.0, the default evaluation metric used with the objective 'binary:logistic' was changed from 'error' to 'logloss'. Explicitly set eval_metric if you'd like to restore the old behavior.\n",
      "XGBClassifier(base_score=0.5, booster='gbtree', colsample_bylevel=1,\n",
      "              colsample_bynode=1, colsample_bytree=1, gamma=0, gpu_id=-1,\n",
      "              importance_type='gain', interaction_constraints='',\n",
      "              learning_rate=0.300000012, max_delta_step=0, max_depth=3,\n",
      "              min_child_weight=1, missing=nan, monotone_constraints='()',\n",
      "              n_estimators=300, n_jobs=4, num_parallel_tree=1, random_state=0,\n",
      "              reg_alpha=0, reg_lambda=1, scale_pos_weight=1, subsample=1,\n",
      "              tree_method='exact', validate_parameters=1, verbosity=None)\n",
      "\n",
      "{'booster': 'gbtree', 'max_depth': 3, 'n_estimators': 300}\n",
      "\n",
      "Best score: 0.9903819855358316\n"
     ]
    },
    {
     "data": {
      "text/plain": [
       "0.9305283757338552"
      ]
     },
     "execution_count": 81,
     "metadata": {},
     "output_type": "execute_result"
    }
   ],
   "source": [
    "# XGBOOST 2\n",
    "\n",
    "xgb = XGBClassifier()\n",
    "\n",
    "parameters = {\n",
    "    'n_estimators': [100, 300, 500],\n",
    "    'booster': ['gbtree'],\n",
    "    'max_depth': [2,3],\n",
    "}\n",
    "\n",
    "clf = GridSearchCV(estimator= xgb, param_grid= parameters, n_jobs=-1, cv=10, verbose=2, scoring='roc_auc')\n",
    "\n",
    "clf.fit(X_train_smt, y_train_smt)\n",
    "\n",
    "print(clf.best_estimator_)\n",
    "print()\n",
    "print(clf.best_params_)\n",
    "print()\n",
    "print('Best score:', clf.best_score_)\n",
    "\n",
    "clf.best_estimator_.score(X_test, y_test)"
   ]
  },
  {
   "cell_type": "code",
   "execution_count": 23,
   "metadata": {},
   "outputs": [
    {
     "name": "stdout",
     "output_type": "stream",
     "text": [
      "Fitting 10 folds for each of 36 candidates, totalling 360 fits\n",
      "[09:14:33] WARNING: C:/Users/Administrator/workspace/xgboost-win64_release_1.3.0/src/learner.cc:1061: Starting in XGBoost 1.3.0, the default evaluation metric used with the objective 'binary:logistic' was changed from 'error' to 'logloss'. Explicitly set eval_metric if you'd like to restore the old behavior.\n",
      "XGBClassifier(base_score=0.5, booster='gbtree', colsample_bylevel=1,\n",
      "              colsample_bynode=1, colsample_bytree=1, gamma=0, gpu_id=-1,\n",
      "              importance_type='gain', interaction_constraints='',\n",
      "              learning_rate=0.1, max_delta_step=0, max_depth=2,\n",
      "              min_child_weight=1, missing=nan, monotone_constraints='()',\n",
      "              n_estimators=94, n_jobs=4, num_parallel_tree=1, random_state=0,\n",
      "              reg_alpha=0, reg_lambda=1, scale_pos_weight=1, subsample=1,\n",
      "              tree_method='exact', validate_parameters=1, verbosity=None)\n",
      "\n",
      "{'booster': 'gbtree', 'learning_rate': 0.1, 'max_depth': 2, 'n_estimators': 94}\n",
      "\n",
      "Best score: 0.9891443129520054\n"
     ]
    },
    {
     "data": {
      "text/plain": [
       "0.9383561643835616"
      ]
     },
     "execution_count": 23,
     "metadata": {},
     "output_type": "execute_result"
    }
   ],
   "source": [
    "# XGBOOST 3\n",
    "\n",
    "xgb = XGBClassifier()\n",
    "\n",
    "parameters = {\n",
    "    'n_estimators': [90, 91, 92, 93, 94, 95],\n",
    "    'booster': ['gbtree'],\n",
    "    'max_depth': [2],\n",
    "    'learning_rate': [0.05, 0.06, 0.07, 0.08, 0.09, 0.1]\n",
    "}\n",
    "\n",
    "clf = GridSearchCV(estimator= xgb, param_grid= parameters, n_jobs=-1, cv=10, verbose=2, scoring='roc_auc')\n",
    "\n",
    "clf.fit(X_train_smt, y_train_smt)\n",
    "\n",
    "print(clf.best_estimator_)\n",
    "print()\n",
    "print(clf.best_params_)\n",
    "print()\n",
    "print('Best score:', clf.best_score_)\n",
    "\n",
    "clf.best_estimator_.score(X_test, y_test)"
   ]
  }
 ],
 "metadata": {
  "colab": {
   "name": "PRUEBAS Stroke Prediction.ipynb",
   "provenance": [],
   "toc_visible": true
  },
  "kernelspec": {
   "display_name": "Python 3",
   "language": "python",
   "name": "python3"
  },
  "language_info": {
   "codemirror_mode": {
    "name": "ipython",
    "version": 3
   },
   "file_extension": ".py",
   "mimetype": "text/x-python",
   "name": "python",
   "nbconvert_exporter": "python",
   "pygments_lexer": "ipython3",
   "version": "3.8.5"
  }
 },
 "nbformat": 4,
 "nbformat_minor": 1
}
