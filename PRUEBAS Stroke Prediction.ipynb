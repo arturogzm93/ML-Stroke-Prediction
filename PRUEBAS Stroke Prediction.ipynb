{
 "cells": [
  {
   "cell_type": "code",
   "execution_count": 1,
   "metadata": {
    "id": "fYbK-U5Eznsp"
   },
   "outputs": [],
   "source": [
    "# CARAR LIBRERIAS\n",
    "\n",
    "import pandas as pd\n",
    "import numpy as np\n",
    "import seaborn as sns\n",
    "import matplotlib.pyplot as plt\n",
    "import warnings\n",
    "warnings.filterwarnings(\"ignore\")\n",
    "\n",
    "from sklearn.model_selection import train_test_split\n",
    "from sklearn.impute import KNNImputer\n",
    "from imblearn.over_sampling import SMOTE\n",
    "from sklearn.pipeline import Pipeline\n",
    "from sklearn.model_selection import GridSearchCV\n",
    "\n",
    "from sklearn.ensemble import RandomForestClassifier\n",
    "from sklearn.linear_model import LogisticRegression\n",
    "from xgboost import XGBClassifier\n",
    "\n",
    "from sklearn.ensemble import GradientBoostingClassifier\n",
    "\n",
    "from sklearn.metrics import accuracy_score, f1_score, recall_score, roc_auc_score, confusion_matrix\n",
    "\n",
    "from sklearn.metrics import classification_report, confusion_matrix, roc_curve, auc\n",
    "from sklearn.metrics import roc_auc_score, precision_score, recall_score, f1_score"
   ]
  },
  {
   "cell_type": "code",
   "execution_count": 2,
   "metadata": {
    "colab": {
     "base_uri": "https://localhost:8080/",
     "height": 195
    },
    "id": "K4pAVFJiznsz",
    "outputId": "46115bc5-bc3e-4044-abf6-dfe7d7bed7b8"
   },
   "outputs": [
    {
     "data": {
      "text/html": [
       "<div>\n",
       "<style scoped>\n",
       "    .dataframe tbody tr th:only-of-type {\n",
       "        vertical-align: middle;\n",
       "    }\n",
       "\n",
       "    .dataframe tbody tr th {\n",
       "        vertical-align: top;\n",
       "    }\n",
       "\n",
       "    .dataframe thead th {\n",
       "        text-align: right;\n",
       "    }\n",
       "</style>\n",
       "<table border=\"1\" class=\"dataframe\">\n",
       "  <thead>\n",
       "    <tr style=\"text-align: right;\">\n",
       "      <th></th>\n",
       "      <th>id</th>\n",
       "      <th>gender</th>\n",
       "      <th>age</th>\n",
       "      <th>hypertension</th>\n",
       "      <th>heart_disease</th>\n",
       "      <th>ever_married</th>\n",
       "      <th>work_type</th>\n",
       "      <th>Residence_type</th>\n",
       "      <th>avg_glucose_level</th>\n",
       "      <th>bmi</th>\n",
       "      <th>smoking_status</th>\n",
       "      <th>stroke</th>\n",
       "    </tr>\n",
       "  </thead>\n",
       "  <tbody>\n",
       "    <tr>\n",
       "      <th>0</th>\n",
       "      <td>9046</td>\n",
       "      <td>Male</td>\n",
       "      <td>67.0</td>\n",
       "      <td>0</td>\n",
       "      <td>1</td>\n",
       "      <td>Yes</td>\n",
       "      <td>Private</td>\n",
       "      <td>Urban</td>\n",
       "      <td>228.69</td>\n",
       "      <td>36.6</td>\n",
       "      <td>formerly smoked</td>\n",
       "      <td>1</td>\n",
       "    </tr>\n",
       "    <tr>\n",
       "      <th>1</th>\n",
       "      <td>51676</td>\n",
       "      <td>Female</td>\n",
       "      <td>61.0</td>\n",
       "      <td>0</td>\n",
       "      <td>0</td>\n",
       "      <td>Yes</td>\n",
       "      <td>Self-employed</td>\n",
       "      <td>Rural</td>\n",
       "      <td>202.21</td>\n",
       "      <td>NaN</td>\n",
       "      <td>never smoked</td>\n",
       "      <td>1</td>\n",
       "    </tr>\n",
       "    <tr>\n",
       "      <th>2</th>\n",
       "      <td>31112</td>\n",
       "      <td>Male</td>\n",
       "      <td>80.0</td>\n",
       "      <td>0</td>\n",
       "      <td>1</td>\n",
       "      <td>Yes</td>\n",
       "      <td>Private</td>\n",
       "      <td>Rural</td>\n",
       "      <td>105.92</td>\n",
       "      <td>32.5</td>\n",
       "      <td>never smoked</td>\n",
       "      <td>1</td>\n",
       "    </tr>\n",
       "    <tr>\n",
       "      <th>3</th>\n",
       "      <td>60182</td>\n",
       "      <td>Female</td>\n",
       "      <td>49.0</td>\n",
       "      <td>0</td>\n",
       "      <td>0</td>\n",
       "      <td>Yes</td>\n",
       "      <td>Private</td>\n",
       "      <td>Urban</td>\n",
       "      <td>171.23</td>\n",
       "      <td>34.4</td>\n",
       "      <td>smokes</td>\n",
       "      <td>1</td>\n",
       "    </tr>\n",
       "    <tr>\n",
       "      <th>4</th>\n",
       "      <td>1665</td>\n",
       "      <td>Female</td>\n",
       "      <td>79.0</td>\n",
       "      <td>1</td>\n",
       "      <td>0</td>\n",
       "      <td>Yes</td>\n",
       "      <td>Self-employed</td>\n",
       "      <td>Rural</td>\n",
       "      <td>174.12</td>\n",
       "      <td>24.0</td>\n",
       "      <td>never smoked</td>\n",
       "      <td>1</td>\n",
       "    </tr>\n",
       "  </tbody>\n",
       "</table>\n",
       "</div>"
      ],
      "text/plain": [
       "      id  gender   age  hypertension  heart_disease ever_married  \\\n",
       "0   9046    Male  67.0             0              1          Yes   \n",
       "1  51676  Female  61.0             0              0          Yes   \n",
       "2  31112    Male  80.0             0              1          Yes   \n",
       "3  60182  Female  49.0             0              0          Yes   \n",
       "4   1665  Female  79.0             1              0          Yes   \n",
       "\n",
       "       work_type Residence_type  avg_glucose_level   bmi   smoking_status  \\\n",
       "0        Private          Urban             228.69  36.6  formerly smoked   \n",
       "1  Self-employed          Rural             202.21   NaN     never smoked   \n",
       "2        Private          Rural             105.92  32.5     never smoked   \n",
       "3        Private          Urban             171.23  34.4           smokes   \n",
       "4  Self-employed          Rural             174.12  24.0     never smoked   \n",
       "\n",
       "   stroke  \n",
       "0       1  \n",
       "1       1  \n",
       "2       1  \n",
       "3       1  \n",
       "4       1  "
      ]
     },
     "execution_count": 2,
     "metadata": {},
     "output_type": "execute_result"
    }
   ],
   "source": [
    "# CARGAR BASE DE DATOS\n",
    "\n",
    "df = pd.read_csv('../BBDD/healthcare-dataset-stroke-data.csv')\n",
    "df.head()"
   ]
  },
  {
   "cell_type": "code",
   "execution_count": 3,
   "metadata": {
    "id": "vXpE72wrzns1"
   },
   "outputs": [],
   "source": [
    "# BORRAR COLUMNA ID\n",
    "\n",
    "df.drop(columns='id', inplace=True)"
   ]
  },
  {
   "cell_type": "code",
   "execution_count": 4,
   "metadata": {
    "colab": {
     "base_uri": "https://localhost:8080/"
    },
    "id": "wQjqRyKFzns1",
    "outputId": "0b14830e-f668-485c-adf2-73ff37a9b4b8"
   },
   "outputs": [
    {
     "name": "stdout",
     "output_type": "stream",
     "text": [
      "gender                 0\n",
      "age                    0\n",
      "hypertension           0\n",
      "heart_disease          0\n",
      "ever_married           0\n",
      "work_type              0\n",
      "Residence_type         0\n",
      "avg_glucose_level      0\n",
      "bmi                  201\n",
      "smoking_status         0\n",
      "stroke                 0\n",
      "dtype: int64\n",
      "\n",
      "gender               0.000000\n",
      "age                  0.000000\n",
      "hypertension         0.000000\n",
      "heart_disease        0.000000\n",
      "ever_married         0.000000\n",
      "work_type            0.000000\n",
      "Residence_type       0.000000\n",
      "avg_glucose_level    0.000000\n",
      "bmi                  3.933464\n",
      "smoking_status       0.000000\n",
      "stroke               0.000000\n",
      "dtype: float64\n"
     ]
    }
   ],
   "source": [
    "# COMPROBAR NANS Y PORCENTAJE\n",
    "\n",
    "print(df.isnull().sum())\n",
    "print('')\n",
    "print(df.isnull().sum() / len(df) * 100)"
   ]
  },
  {
   "cell_type": "code",
   "execution_count": 5,
   "metadata": {
    "colab": {
     "base_uri": "https://localhost:8080/"
    },
    "id": "S9Rsa9vtzns2",
    "outputId": "517b363c-42d6-4c19-eddf-04a7b765c48e"
   },
   "outputs": [
    {
     "name": "stdout",
     "output_type": "stream",
     "text": [
      "gender               249\n",
      "age                  249\n",
      "hypertension         249\n",
      "heart_disease        249\n",
      "ever_married         249\n",
      "work_type            249\n",
      "Residence_type       249\n",
      "avg_glucose_level    249\n",
      "bmi                  209\n",
      "smoking_status       249\n",
      "stroke               249\n",
      "dtype: int64\n",
      " \n",
      "gender                0\n",
      "age                   0\n",
      "hypertension          0\n",
      "heart_disease         0\n",
      "ever_married          0\n",
      "work_type             0\n",
      "Residence_type        0\n",
      "avg_glucose_level     0\n",
      "bmi                  40\n",
      "smoking_status        0\n",
      "stroke                0\n",
      "dtype: int64\n"
     ]
    }
   ],
   "source": [
    "# TOTAL DE MISSINGS EN STROKE = 1\n",
    "\n",
    "print(df[df['stroke'] == 1].count())\n",
    "print(' ')\n",
    "print(df[df['stroke'] == 1].isnull().sum())"
   ]
  },
  {
   "cell_type": "code",
   "execution_count": 6,
   "metadata": {
    "id": "f8XcW6UCzns2"
   },
   "outputs": [],
   "source": [
    "# SUSTITUIR EN COLUMNA 'GENDER' FEMALE POR 0 Y MALE POR 1\n",
    "\n",
    "df.loc[df['gender'] == 'Female', 'gender'] = 0\n",
    "df.loc[df['gender'] == 'Male', 'gender'] = 1\n",
    "\n",
    "# SUSTITUIR EN COLUMNA 'EVER_MARRIED' NO POR 0 Y YES POR 1\n",
    "\n",
    "df.loc[df['ever_married'] == 'No', 'ever_married'] = 0\n",
    "df.loc[df['ever_married'] == 'Yes', 'ever_married'] = 1\n",
    "\n",
    "# SUSTITUIR EN COLUMNA 'RESIDENCE TYPE' RURAL POR 0 Y URBAN POR 1\n",
    "\n",
    "df.loc[df['Residence_type'] == 'Rural', 'Residence_type'] = 0\n",
    "df.loc[df['Residence_type'] == 'Urban', 'Residence_type'] = 1"
   ]
  },
  {
   "cell_type": "code",
   "execution_count": 7,
   "metadata": {
    "id": "GKHeVJ7czns3"
   },
   "outputs": [],
   "source": [
    "# BORRAR FILA CON GENDER 'OTHER'\n",
    "\n",
    "df.drop(index= 3116, inplace=True)\n",
    "\n",
    "# RESETEAR LOS VALORES DEL INDICE\n",
    "\n",
    "df.reset_index(drop = True, inplace = True)"
   ]
  },
  {
   "cell_type": "code",
   "execution_count": 8,
   "metadata": {
    "id": "pSFRTK6Zzns4"
   },
   "outputs": [],
   "source": [
    "# SEPARAR EN DISTINTAS COLUMNAS LAS DIFERENTES CATEGORIAS DE 'WORK TYPE' Y 'SMOKING STATUS'\n",
    "\n",
    "df = pd.get_dummies(data=df, columns=['work_type', 'smoking_status'])"
   ]
  },
  {
   "cell_type": "code",
   "execution_count": 9,
   "metadata": {
    "id": "y2yltquAzns5"
   },
   "outputs": [],
   "source": [
    "# CAMBIAR TIPOS EN COLUMNAS\n",
    "\n",
    "df = df.astype({\n",
    "    'gender': 'int64',\n",
    "    'age': 'int64',\n",
    "    'ever_married': 'int64',\n",
    "    'Residence_type':'int64'\n",
    "})"
   ]
  },
  {
   "cell_type": "code",
   "execution_count": 10,
   "metadata": {
    "id": "z3j0GyPZzns5"
   },
   "outputs": [],
   "source": [
    "# RENOMBRAR COLUMNA RESIDENCE_TYPE\n",
    "\n",
    "df.rename(columns={'Residence_type': 'residence_type'}, inplace=True)"
   ]
  },
  {
   "cell_type": "code",
   "execution_count": 11,
   "metadata": {
    "id": "apZeEbpJzns6"
   },
   "outputs": [],
   "source": [
    "# REORDENAR COLUMNAS\n",
    "\n",
    "df = df[['gender', 'age', 'hypertension', 'heart_disease', 'ever_married',\n",
    "       'residence_type', 'avg_glucose_level', 'bmi', 'work_type_Govt_job', \n",
    "       'work_type_Never_worked', 'work_type_Private', 'work_type_Self-employed', \n",
    "       'work_type_children', 'smoking_status_Unknown', 'smoking_status_formerly smoked',\n",
    "       'smoking_status_never smoked', 'smoking_status_smokes', 'stroke']]"
   ]
  },
  {
   "cell_type": "markdown",
   "metadata": {},
   "source": [
    "# DIVIDIR EN TRAIN Y TEST"
   ]
  },
  {
   "cell_type": "code",
   "execution_count": 12,
   "metadata": {
    "id": "Muf3RdAWzns9"
   },
   "outputs": [],
   "source": [
    "# DIVIDIR EN TRAIN Y TEST\n",
    "\n",
    "X = df.drop('stroke', axis=1)\n",
    "y = df['stroke']\n",
    "\n",
    "X_train, X_test, y_train, y_test = train_test_split(X, y, test_size=0.2, random_state=42)"
   ]
  },
  {
   "cell_type": "code",
   "execution_count": 13,
   "metadata": {
    "id": "rz90MAfczns9"
   },
   "outputs": [],
   "source": [
    "# IMPUTAR MISSINGS MEDIANTE KNN\n",
    "\n",
    "imputer = KNNImputer(n_neighbors=5)\n",
    "\n",
    "imputer.fit(X_train[['gender', 'age', 'hypertension', 'heart_disease', 'ever_married',\n",
    "       'residence_type', 'avg_glucose_level', 'bmi', 'work_type_Govt_job', \n",
    "       'work_type_Never_worked', 'work_type_Private', 'work_type_Self-employed', \n",
    "       'work_type_children', 'smoking_status_Unknown', 'smoking_status_formerly smoked',\n",
    "       'smoking_status_never smoked', 'smoking_status_smokes']])\n",
    "\n",
    "X_train[['gender', 'age', 'hypertension', 'heart_disease', 'ever_married',\n",
    "       'residence_type', 'avg_glucose_level', 'bmi', 'work_type_Govt_job', \n",
    "       'work_type_Never_worked', 'work_type_Private', 'work_type_Self-employed', \n",
    "       'work_type_children', 'smoking_status_Unknown', 'smoking_status_formerly smoked',\n",
    "       'smoking_status_never smoked', 'smoking_status_smokes']] = imputer.transform(X_train[['gender', 'age', 'hypertension',                'heart_disease', 'ever_married',\n",
    "       'residence_type', 'avg_glucose_level', 'bmi', 'work_type_Govt_job', \n",
    "       'work_type_Never_worked', 'work_type_Private', 'work_type_Self-employed', \n",
    "       'work_type_children', 'smoking_status_Unknown', 'smoking_status_formerly smoked',\n",
    "       'smoking_status_never smoked', 'smoking_status_smokes']])"
   ]
  },
  {
   "cell_type": "code",
   "execution_count": 14,
   "metadata": {
    "colab": {
     "base_uri": "https://localhost:8080/"
    },
    "id": "YlaDmNktzns-",
    "outputId": "bf3962d7-edff-416c-ca45-ed96d7922d47"
   },
   "outputs": [
    {
     "data": {
      "text/plain": [
       "gender                            0\n",
       "age                               0\n",
       "hypertension                      0\n",
       "heart_disease                     0\n",
       "ever_married                      0\n",
       "residence_type                    0\n",
       "avg_glucose_level                 0\n",
       "bmi                               0\n",
       "work_type_Govt_job                0\n",
       "work_type_Never_worked            0\n",
       "work_type_Private                 0\n",
       "work_type_Self-employed           0\n",
       "work_type_children                0\n",
       "smoking_status_Unknown            0\n",
       "smoking_status_formerly smoked    0\n",
       "smoking_status_never smoked       0\n",
       "smoking_status_smokes             0\n",
       "dtype: int64"
      ]
     },
     "execution_count": 14,
     "metadata": {},
     "output_type": "execute_result"
    }
   ],
   "source": [
    "# COMPROBAR QUE NO HAY MISSINGS\n",
    "\n",
    "X_train.isnull().sum()"
   ]
  },
  {
   "cell_type": "code",
   "execution_count": 15,
   "metadata": {
    "colab": {
     "base_uri": "https://localhost:8080/"
    },
    "id": "gbPpRx5nzns-",
    "outputId": "0542c6d9-8612-4391-bfec-b0c8b6aff507"
   },
   "outputs": [
    {
     "name": "stdout",
     "output_type": "stream",
     "text": [
      "Antes de SMOTE Counter({0: 3900, 1: 187})\n",
      "Despues de SMOTE Counter({0: 3900, 1: 3900})\n"
     ]
    }
   ],
   "source": [
    "# BALANCEAR TARGET CON SMOTE\n",
    "\n",
    "from collections import Counter\n",
    "\n",
    "counter = Counter(y_train)\n",
    "print('Antes de SMOTE', counter)\n",
    "\n",
    "smt = SMOTE(random_state=42)\n",
    "X_train_smt, y_train_smt = smt.fit_resample(X_train, y_train)\n",
    "\n",
    "counter = Counter(y_train_smt)\n",
    "print('Despues de SMOTE', counter)"
   ]
  },
  {
   "cell_type": "markdown",
   "metadata": {
    "id": "bZT-I2KTzns_"
   },
   "source": [
    "# TEST"
   ]
  },
  {
   "cell_type": "code",
   "execution_count": 16,
   "metadata": {
    "id": "lY7_hOFdzns_"
   },
   "outputs": [],
   "source": [
    "# IMPUTAR MISSINGS MEDIANTE KNN\n",
    "\n",
    "X_test[['gender', 'age', 'hypertension', 'heart_disease', 'ever_married',\n",
    "       'residence_type', 'avg_glucose_level', 'bmi', 'work_type_Govt_job', \n",
    "       'work_type_Never_worked', 'work_type_Private', 'work_type_Self-employed', \n",
    "       'work_type_children', 'smoking_status_Unknown', 'smoking_status_formerly smoked',\n",
    "       'smoking_status_never smoked', 'smoking_status_smokes']] = imputer.transform(X_test[['gender', 'age', 'hypertension',                'heart_disease', 'ever_married',\n",
    "       'residence_type', 'avg_glucose_level', 'bmi', 'work_type_Govt_job', \n",
    "       'work_type_Never_worked', 'work_type_Private', 'work_type_Self-employed', \n",
    "       'work_type_children', 'smoking_status_Unknown', 'smoking_status_formerly smoked',\n",
    "       'smoking_status_never smoked', 'smoking_status_smokes']])"
   ]
  },
  {
   "cell_type": "markdown",
   "metadata": {
    "id": "NQ3Cz8SUzns_"
   },
   "source": [
    "# MODELOS"
   ]
  },
  {
   "cell_type": "code",
   "execution_count": 17,
   "metadata": {},
   "outputs": [],
   "source": [
    "# FUNCION PARA DIBUJAR MATRIZ DE CONFUSION\n",
    "\n",
    "def matriz_confusion(y_test, predictions):\n",
    "    \n",
    "    c_matrix = confusion_matrix(y_test, predictions)\n",
    "    plt.figure(figsize=(8, 8))\n",
    "    sns.heatmap(c_matrix, annot=True, fmt='d', cmap='Blues', cbar=False, yticklabels = ['No stroke', 'Stroke'], xticklabels = ['Predicted no stroke', 'Predicted stroke']);\n",
    "    plt.title(\"Confusion matrix\")\n",
    "    plt.ylabel('True class')\n",
    "    plt.xlabel('Predicted class')\n",
    "    plt.show()\n",
    "    print (classification_report(y_test, predictions))"
   ]
  },
  {
   "cell_type": "markdown",
   "metadata": {},
   "source": [
    "### LOGISTIC REGRESSION"
   ]
  },
  {
   "cell_type": "markdown",
   "metadata": {},
   "source": [
    "#### MODELO"
   ]
  },
  {
   "cell_type": "code",
   "execution_count": 19,
   "metadata": {
    "colab": {
     "base_uri": "https://localhost:8080/"
    },
    "id": "luwnKq-50C4X",
    "outputId": "5947b735-e03d-4b46-c5c1-bce8bfffad8f",
    "tags": [
     "outputPrepend"
    ]
   },
   "outputs": [
    {
     "name": "stdout",
     "output_type": "stream",
     "text": [
      "Fitting 10 folds for each of 36 candidates, totalling 360 fits\n",
      "{'C': 1, 'max_iter': 500, 'penalty': 'l2', 'solver': 'sag'}\n",
      "\n",
      "Best score: 0.8146153846153845\n"
     ]
    },
    {
     "data": {
      "text/plain": [
       "0.7407045009784736"
      ]
     },
     "execution_count": 19,
     "metadata": {},
     "output_type": "execute_result"
    }
   ],
   "source": [
    "# LOGISTIC REGRESSION\n",
    "\n",
    "log_reg = LogisticRegression()\n",
    "\n",
    "parameters = {\n",
    "    'penalty': ['l1', 'l2'],\n",
    "    'C': [0.01, 0.1, 0.5, 1, 5, 10],\n",
    "    'max_iter': [50, 100, 500],\n",
    "    'solver': ['sag']\n",
    "}\n",
    "\n",
    "clf = GridSearchCV(estimator= log_reg, param_grid= parameters, n_jobs=-1, cv=10, verbose=1, scoring='recall')\n",
    "\n",
    "clf.fit(X_train_smt, y_train_smt)\n",
    "\n",
    "print(clf.best_params_)\n",
    "print()\n",
    "print('Best score:', clf.best_score_)\n",
    "\n",
    "log_model = clf.best_estimator_\n",
    "\n",
    "log_model.score(X_test, y_test)"
   ]
  },
  {
   "cell_type": "markdown",
   "metadata": {},
   "source": [
    "#### MATRIZ DE CONFUSION"
   ]
  },
  {
   "cell_type": "code",
   "execution_count": 36,
   "metadata": {},
   "outputs": [
    {
     "data": {
      "image/png": "[encoded data removed]",
      "text/plain": [
       "<Figure size 576x576 with 1 Axes>"
      ]
     },
     "metadata": {},
     "output_type": "display_data"
    },
    {
     "name": "stdout",
     "output_type": "stream",
     "text": [
      "              precision    recall  f1-score   support\n",
      "\n",
      "           0       0.98      0.74      0.84       960\n",
      "           1       0.16      0.77      0.27        62\n",
      "\n",
      "    accuracy                           0.74      1022\n",
      "   macro avg       0.57      0.76      0.55      1022\n",
      "weighted avg       0.93      0.74      0.81      1022\n",
      "\n"
     ]
    }
   ],
   "source": [
    "predictions = log_model.predict(X_test)\n",
    "\n",
    "matriz_confusion(y_test, predictions)"
   ]
  },
  {
   "cell_type": "markdown",
   "metadata": {},
   "source": [
    "#### METRICAS"
   ]
  },
  {
   "cell_type": "code",
   "execution_count": 37,
   "metadata": {},
   "outputs": [],
   "source": [
    "accuracy_log = round(accuracy_score(y_test, predictions), 2)\n",
    "precision_log = round(precision_score(y_test, predictions), 2)\n",
    "recall_log = round(recall_score(y_test, predictions), 2)\n",
    "f1_log = round(f1_score(y_test, predictions), 2)\n",
    "roc_auc_log = round(roc_auc_score(y_test, predictions), 2)"
   ]
  },
  {
   "cell_type": "code",
   "execution_count": 20,
   "metadata": {},
   "outputs": [
    {
     "ename": "NameError",
     "evalue": "name 'accuracy_log' is not defined",
     "output_type": "error",
     "traceback": [
      "\u001b[1;31m---------------------------------------------------------------------------\u001b[0m",
      "\u001b[1;31mNameError\u001b[0m                                 Traceback (most recent call last)",
      "\u001b[1;32m<ipython-input-20-f4f649049e7a>\u001b[0m in \u001b[0;36m<module>\u001b[1;34m\u001b[0m\n\u001b[1;32m----> 1\u001b[1;33m \u001b[0mprint\u001b[0m\u001b[1;33m(\u001b[0m\u001b[1;34m'Acc:'\u001b[0m\u001b[1;33m,\u001b[0m \u001b[0maccuracy_log\u001b[0m\u001b[1;33m)\u001b[0m\u001b[1;33m\u001b[0m\u001b[1;33m\u001b[0m\u001b[0m\n\u001b[0m\u001b[0;32m      2\u001b[0m \u001b[0mprint\u001b[0m\u001b[1;33m(\u001b[0m\u001b[1;34m'Precision:'\u001b[0m\u001b[1;33m,\u001b[0m \u001b[0mprecision_log\u001b[0m\u001b[1;33m)\u001b[0m\u001b[1;33m\u001b[0m\u001b[1;33m\u001b[0m\u001b[0m\n\u001b[0;32m      3\u001b[0m \u001b[0mprint\u001b[0m\u001b[1;33m(\u001b[0m\u001b[1;34m'Recall:'\u001b[0m\u001b[1;33m,\u001b[0m \u001b[0mrecall_log\u001b[0m\u001b[1;33m)\u001b[0m\u001b[1;33m\u001b[0m\u001b[1;33m\u001b[0m\u001b[0m\n\u001b[0;32m      4\u001b[0m \u001b[0mprint\u001b[0m\u001b[1;33m(\u001b[0m\u001b[1;34m'F1:'\u001b[0m\u001b[1;33m,\u001b[0m \u001b[0mf1_log\u001b[0m\u001b[1;33m)\u001b[0m\u001b[1;33m\u001b[0m\u001b[1;33m\u001b[0m\u001b[0m\n\u001b[0;32m      5\u001b[0m \u001b[0mprint\u001b[0m\u001b[1;33m(\u001b[0m\u001b[1;34m'ROC-AUC:'\u001b[0m\u001b[1;33m,\u001b[0m \u001b[0mroc_auc_log\u001b[0m\u001b[1;33m)\u001b[0m\u001b[1;33m\u001b[0m\u001b[1;33m\u001b[0m\u001b[0m\n",
      "\u001b[1;31mNameError\u001b[0m: name 'accuracy_log' is not defined"
     ]
    }
   ],
   "source": [
    "print('Acc:', accuracy_log)\n",
    "print('Precision:', precision_log)\n",
    "print('Recall:', recall_log)\n",
    "print('F1:', f1_log)\n",
    "print('ROC-AUC:', roc_auc_log)"
   ]
  },
  {
   "cell_type": "markdown",
   "metadata": {},
   "source": [
    "#### ROC AUC CURVE"
   ]
  },
  {
   "cell_type": "code",
   "execution_count": 38,
   "metadata": {},
   "outputs": [
    {
     "data": {
      "image/png": "[encoded data removed]",
      "text/plain": [
       "<Figure size 576x576 with 1 Axes>"
      ]
     },
     "metadata": {},
     "output_type": "display_data"
    }
   ],
   "source": [
    "y_pred = log_model.predict(X_test)\n",
    "y_prob = log_model.predict_proba(X_test)[:,1]\n",
    "\n",
    "# Roc curve\n",
    "false_positive_rate, true_positive_rate, thresholds = roc_curve(y_test, y_prob)\n",
    "roc_auc = auc(false_positive_rate, true_positive_rate)\n",
    "\n",
    "sns.set_theme(style = 'white')\n",
    "plt.figure(figsize = (8, 8))\n",
    "plt.plot(false_positive_rate,true_positive_rate, color = '#b01717', label = 'AUC = %0.3f' % roc_auc)\n",
    "plt.legend(loc = 'lower right')\n",
    "plt.plot([0, 1], [0, 1], linestyle = '--', color = '#174ab0')\n",
    "plt.axis('tight')\n",
    "plt.ylabel('True Positive Rate')\n",
    "plt.xlabel('False Positive Rate')\n",
    "plt.show()"
   ]
  },
  {
   "cell_type": "markdown",
   "metadata": {},
   "source": [
    "### RANDOM FOREST"
   ]
  },
  {
   "cell_type": "markdown",
   "metadata": {},
   "source": [
    "#### MODELO"
   ]
  },
  {
   "cell_type": "code",
   "execution_count": 39,
   "metadata": {},
   "outputs": [
    {
     "name": "stdout",
     "output_type": "stream",
     "text": [
      "Fitting 10 folds for each of 48 candidates, totalling 480 fits\n",
      "{'max_depth': 5, 'max_features': 3, 'n_estimators': 300}\n",
      "\n",
      "Best score: 0.9253846153846153\n"
     ]
    },
    {
     "data": {
      "text/plain": [
       "0.8864970645792564"
      ]
     },
     "execution_count": 39,
     "metadata": {},
     "output_type": "execute_result"
    }
   ],
   "source": [
    "# RANDOM FOREST\n",
    "\n",
    "rf = RandomForestClassifier(random_state=42)\n",
    "\n",
    "parameters = {\n",
    "    'n_estimators': [50, 100, 200, 300],\n",
    "    'max_depth': [2, 3, 4, 5],\n",
    "    'max_features': [1, 2, 3]\n",
    "}\n",
    "\n",
    "clf = GridSearchCV(estimator= rf, param_grid= parameters, n_jobs=-1, cv=10, verbose=1, scoring='recall')\n",
    "\n",
    "clf.fit(X_train_smt, y_train_smt)\n",
    "\n",
    "print(clf.best_params_)\n",
    "print()\n",
    "print('Best score:', clf.best_score_)\n",
    "\n",
    "rf_model = clf.best_estimator_\n",
    "\n",
    "rf_model.score(X_test, y_test)"
   ]
  },
  {
   "cell_type": "markdown",
   "metadata": {},
   "source": [
    "#### MATRIZ DE CONFUSION"
   ]
  },
  {
   "cell_type": "code",
   "execution_count": 40,
   "metadata": {},
   "outputs": [
    {
     "data": {
      "image/png": "[encoded data removed]",
      "text/plain": [
       "<Figure size 576x576 with 1 Axes>"
      ]
     },
     "metadata": {},
     "output_type": "display_data"
    },
    {
     "name": "stdout",
     "output_type": "stream",
     "text": [
      "              precision    recall  f1-score   support\n",
      "\n",
      "           0       0.96      0.92      0.94       960\n",
      "           1       0.22      0.34      0.27        62\n",
      "\n",
      "    accuracy                           0.89      1022\n",
      "   macro avg       0.59      0.63      0.60      1022\n",
      "weighted avg       0.91      0.89      0.90      1022\n",
      "\n"
     ]
    }
   ],
   "source": [
    "predictions = rf_model.predict(X_test)\n",
    "\n",
    "matriz_confusion(y_test, predictions)"
   ]
  },
  {
   "cell_type": "markdown",
   "metadata": {},
   "source": [
    "#### METRICAS"
   ]
  },
  {
   "cell_type": "code",
   "execution_count": 41,
   "metadata": {},
   "outputs": [],
   "source": [
    "accuracy_rf = round(accuracy_score(y_test, predictions), 2)\n",
    "precision_rf = round(precision_score(y_test, predictions), 2)\n",
    "recall_rf = round(recall_score(y_test, predictions), 2)\n",
    "f1_rf = round(f1_score(y_test, predictions), 2)\n",
    "roc_auc_rf = round(roc_auc_score(y_test, predictions), 2)"
   ]
  },
  {
   "cell_type": "markdown",
   "metadata": {},
   "source": [
    "#### ROC AUC CURVE"
   ]
  },
  {
   "cell_type": "code",
   "execution_count": 42,
   "metadata": {},
   "outputs": [
    {
     "data": {
      "image/png": "[encoded data removed]",
      "text/plain": [
       "<Figure size 576x576 with 1 Axes>"
      ]
     },
     "metadata": {},
     "output_type": "display_data"
    }
   ],
   "source": [
    "y_pred = rf_model.predict(X_test)\n",
    "y_prob = rf_model.predict_proba(X_test)[:,1]\n",
    "\n",
    "# Roc curve\n",
    "false_positive_rate, true_positive_rate, thresholds = roc_curve(y_test, y_prob)\n",
    "roc_auc = auc(false_positive_rate, true_positive_rate)\n",
    "\n",
    "sns.set_theme(style = 'white')\n",
    "plt.figure(figsize = (8, 8))\n",
    "plt.plot(false_positive_rate,true_positive_rate, color = '#b01717', label = 'AUC = %0.3f' % roc_auc)\n",
    "plt.legend(loc = 'lower right')\n",
    "plt.plot([0, 1], [0, 1], linestyle = '--', color = '#174ab0')\n",
    "plt.axis('tight')\n",
    "plt.ylabel('True Positive Rate')\n",
    "plt.xlabel('False Positive Rate')\n",
    "plt.show()"
   ]
  },
  {
   "cell_type": "markdown",
   "metadata": {},
   "source": [
    "#### FEATURE IMPORTANCE"
   ]
  },
  {
   "cell_type": "code",
   "execution_count": 43,
   "metadata": {},
   "outputs": [
    {
     "data": {
      "text/html": [
       "<style  type=\"text/css\" >\n",
       "#T_e7880005_9ec1_11eb_a22d_f49634a47085row0_col1{\n",
       "            background-color:  #08306b;\n",
       "            color:  #f1f1f1;\n",
       "        }#T_e7880005_9ec1_11eb_a22d_f49634a47085row1_col1{\n",
       "            background-color:  #84bcdb;\n",
       "            color:  #000000;\n",
       "        }#T_e7880005_9ec1_11eb_a22d_f49634a47085row2_col1{\n",
       "            background-color:  #a1cbe2;\n",
       "            color:  #000000;\n",
       "        }#T_e7880005_9ec1_11eb_a22d_f49634a47085row3_col1{\n",
       "            background-color:  #abd0e6;\n",
       "            color:  #000000;\n",
       "        }#T_e7880005_9ec1_11eb_a22d_f49634a47085row4_col1{\n",
       "            background-color:  #bed8ec;\n",
       "            color:  #000000;\n",
       "        }#T_e7880005_9ec1_11eb_a22d_f49634a47085row5_col1{\n",
       "            background-color:  #c8dcf0;\n",
       "            color:  #000000;\n",
       "        }#T_e7880005_9ec1_11eb_a22d_f49634a47085row6_col1{\n",
       "            background-color:  #caddf0;\n",
       "            color:  #000000;\n",
       "        }#T_e7880005_9ec1_11eb_a22d_f49634a47085row7_col1{\n",
       "            background-color:  #cddff1;\n",
       "            color:  #000000;\n",
       "        }#T_e7880005_9ec1_11eb_a22d_f49634a47085row8_col1{\n",
       "            background-color:  #cee0f2;\n",
       "            color:  #000000;\n",
       "        }#T_e7880005_9ec1_11eb_a22d_f49634a47085row9_col1{\n",
       "            background-color:  #d4e4f4;\n",
       "            color:  #000000;\n",
       "        }#T_e7880005_9ec1_11eb_a22d_f49634a47085row10_col1{\n",
       "            background-color:  #dae8f6;\n",
       "            color:  #000000;\n",
       "        }#T_e7880005_9ec1_11eb_a22d_f49634a47085row11_col1{\n",
       "            background-color:  #e1edf8;\n",
       "            color:  #000000;\n",
       "        }#T_e7880005_9ec1_11eb_a22d_f49634a47085row12_col1{\n",
       "            background-color:  #e3eef8;\n",
       "            color:  #000000;\n",
       "        }#T_e7880005_9ec1_11eb_a22d_f49634a47085row13_col1{\n",
       "            background-color:  #e7f1fa;\n",
       "            color:  #000000;\n",
       "        }#T_e7880005_9ec1_11eb_a22d_f49634a47085row14_col1{\n",
       "            background-color:  #edf4fc;\n",
       "            color:  #000000;\n",
       "        }#T_e7880005_9ec1_11eb_a22d_f49634a47085row15_col1{\n",
       "            background-color:  #f2f7fd;\n",
       "            color:  #000000;\n",
       "        }#T_e7880005_9ec1_11eb_a22d_f49634a47085row16_col1{\n",
       "            background-color:  #f7fbff;\n",
       "            color:  #000000;\n",
       "        }</style><table id=\"T_e7880005_9ec1_11eb_a22d_f49634a47085\" ><thead>    <tr>        <th class=\"blank level0\" ></th>        <th class=\"col_heading level0 col0\" >feature</th>        <th class=\"col_heading level0 col1\" >importance</th>    </tr></thead><tbody>\n",
       "                <tr>\n",
       "                        <th id=\"T_e7880005_9ec1_11eb_a22d_f49634a47085level0_row0\" class=\"row_heading level0 row0\" >2</th>\n",
       "                        <td id=\"T_e7880005_9ec1_11eb_a22d_f49634a47085row0_col0\" class=\"data row0 col0\" >age</td>\n",
       "                        <td id=\"T_e7880005_9ec1_11eb_a22d_f49634a47085row0_col1\" class=\"data row0 col1\" >0.249348</td>\n",
       "            </tr>\n",
       "            <tr>\n",
       "                        <th id=\"T_e7880005_9ec1_11eb_a22d_f49634a47085level0_row1\" class=\"row_heading level0 row1\" >5</th>\n",
       "                        <td id=\"T_e7880005_9ec1_11eb_a22d_f49634a47085row1_col0\" class=\"data row1 col0\" >ever_married</td>\n",
       "                        <td id=\"T_e7880005_9ec1_11eb_a22d_f49634a47085row1_col1\" class=\"data row1 col1\" >0.109422</td>\n",
       "            </tr>\n",
       "            <tr>\n",
       "                        <th id=\"T_e7880005_9ec1_11eb_a22d_f49634a47085level0_row2\" class=\"row_heading level0 row2\" >3</th>\n",
       "                        <td id=\"T_e7880005_9ec1_11eb_a22d_f49634a47085row2_col0\" class=\"data row2 col0\" >hypertension</td>\n",
       "                        <td id=\"T_e7880005_9ec1_11eb_a22d_f49634a47085row2_col1\" class=\"data row2 col1\" >0.091476</td>\n",
       "            </tr>\n",
       "            <tr>\n",
       "                        <th id=\"T_e7880005_9ec1_11eb_a22d_f49634a47085level0_row3\" class=\"row_heading level0 row3\" >4</th>\n",
       "                        <td id=\"T_e7880005_9ec1_11eb_a22d_f49634a47085row3_col0\" class=\"data row3 col0\" >heart_disease</td>\n",
       "                        <td id=\"T_e7880005_9ec1_11eb_a22d_f49634a47085row3_col1\" class=\"data row3 col1\" >0.083732</td>\n",
       "            </tr>\n",
       "            <tr>\n",
       "                        <th id=\"T_e7880005_9ec1_11eb_a22d_f49634a47085level0_row4\" class=\"row_heading level0 row4\" >15</th>\n",
       "                        <td id=\"T_e7880005_9ec1_11eb_a22d_f49634a47085row4_col0\" class=\"data row4 col0\" >smoking_status_formerly smoked</td>\n",
       "                        <td id=\"T_e7880005_9ec1_11eb_a22d_f49634a47085row4_col1\" class=\"data row4 col1\" >0.068536</td>\n",
       "            </tr>\n",
       "            <tr>\n",
       "                        <th id=\"T_e7880005_9ec1_11eb_a22d_f49634a47085level0_row5\" class=\"row_heading level0 row5\" >12</th>\n",
       "                        <td id=\"T_e7880005_9ec1_11eb_a22d_f49634a47085row5_col0\" class=\"data row5 col0\" >work_type_Self-employed</td>\n",
       "                        <td id=\"T_e7880005_9ec1_11eb_a22d_f49634a47085row5_col1\" class=\"data row5 col1\" >0.059678</td>\n",
       "            </tr>\n",
       "            <tr>\n",
       "                        <th id=\"T_e7880005_9ec1_11eb_a22d_f49634a47085level0_row6\" class=\"row_heading level0 row6\" >14</th>\n",
       "                        <td id=\"T_e7880005_9ec1_11eb_a22d_f49634a47085row6_col0\" class=\"data row6 col0\" >smoking_status_Unknown</td>\n",
       "                        <td id=\"T_e7880005_9ec1_11eb_a22d_f49634a47085row6_col1\" class=\"data row6 col1\" >0.057625</td>\n",
       "            </tr>\n",
       "            <tr>\n",
       "                        <th id=\"T_e7880005_9ec1_11eb_a22d_f49634a47085level0_row7\" class=\"row_heading level0 row7\" >6</th>\n",
       "                        <td id=\"T_e7880005_9ec1_11eb_a22d_f49634a47085row7_col0\" class=\"data row7 col0\" >residence_type</td>\n",
       "                        <td id=\"T_e7880005_9ec1_11eb_a22d_f49634a47085row7_col1\" class=\"data row7 col1\" >0.054227</td>\n",
       "            </tr>\n",
       "            <tr>\n",
       "                        <th id=\"T_e7880005_9ec1_11eb_a22d_f49634a47085level0_row8\" class=\"row_heading level0 row8\" >11</th>\n",
       "                        <td id=\"T_e7880005_9ec1_11eb_a22d_f49634a47085row8_col0\" class=\"data row8 col0\" >work_type_Private</td>\n",
       "                        <td id=\"T_e7880005_9ec1_11eb_a22d_f49634a47085row8_col1\" class=\"data row8 col1\" >0.051775</td>\n",
       "            </tr>\n",
       "            <tr>\n",
       "                        <th id=\"T_e7880005_9ec1_11eb_a22d_f49634a47085level0_row9\" class=\"row_heading level0 row9\" >16</th>\n",
       "                        <td id=\"T_e7880005_9ec1_11eb_a22d_f49634a47085row9_col0\" class=\"data row9 col0\" >smoking_status_never smoked</td>\n",
       "                        <td id=\"T_e7880005_9ec1_11eb_a22d_f49634a47085row9_col1\" class=\"data row9 col1\" >0.044796</td>\n",
       "            </tr>\n",
       "            <tr>\n",
       "                        <th id=\"T_e7880005_9ec1_11eb_a22d_f49634a47085level0_row10\" class=\"row_heading level0 row10\" >1</th>\n",
       "                        <td id=\"T_e7880005_9ec1_11eb_a22d_f49634a47085row10_col0\" class=\"data row10 col0\" >gender</td>\n",
       "                        <td id=\"T_e7880005_9ec1_11eb_a22d_f49634a47085row10_col1\" class=\"data row10 col1\" >0.036217</td>\n",
       "            </tr>\n",
       "            <tr>\n",
       "                        <th id=\"T_e7880005_9ec1_11eb_a22d_f49634a47085level0_row11\" class=\"row_heading level0 row11\" >9</th>\n",
       "                        <td id=\"T_e7880005_9ec1_11eb_a22d_f49634a47085row11_col0\" class=\"data row11 col0\" >work_type_Govt_job</td>\n",
       "                        <td id=\"T_e7880005_9ec1_11eb_a22d_f49634a47085row11_col1\" class=\"data row11 col1\" >0.027432</td>\n",
       "            </tr>\n",
       "            <tr>\n",
       "                        <th id=\"T_e7880005_9ec1_11eb_a22d_f49634a47085level0_row12\" class=\"row_heading level0 row12\" >7</th>\n",
       "                        <td id=\"T_e7880005_9ec1_11eb_a22d_f49634a47085row12_col0\" class=\"data row12 col0\" >avg_glucose_level</td>\n",
       "                        <td id=\"T_e7880005_9ec1_11eb_a22d_f49634a47085row12_col1\" class=\"data row12 col1\" >0.026016</td>\n",
       "            </tr>\n",
       "            <tr>\n",
       "                        <th id=\"T_e7880005_9ec1_11eb_a22d_f49634a47085level0_row13\" class=\"row_heading level0 row13\" >17</th>\n",
       "                        <td id=\"T_e7880005_9ec1_11eb_a22d_f49634a47085row13_col0\" class=\"data row13 col0\" >smoking_status_smokes</td>\n",
       "                        <td id=\"T_e7880005_9ec1_11eb_a22d_f49634a47085row13_col1\" class=\"data row13 col1\" >0.019793</td>\n",
       "            </tr>\n",
       "            <tr>\n",
       "                        <th id=\"T_e7880005_9ec1_11eb_a22d_f49634a47085level0_row14\" class=\"row_heading level0 row14\" >8</th>\n",
       "                        <td id=\"T_e7880005_9ec1_11eb_a22d_f49634a47085row14_col0\" class=\"data row14 col0\" >bmi</td>\n",
       "                        <td id=\"T_e7880005_9ec1_11eb_a22d_f49634a47085row14_col1\" class=\"data row14 col1\" >0.012945</td>\n",
       "            </tr>\n",
       "            <tr>\n",
       "                        <th id=\"T_e7880005_9ec1_11eb_a22d_f49634a47085level0_row15\" class=\"row_heading level0 row15\" >13</th>\n",
       "                        <td id=\"T_e7880005_9ec1_11eb_a22d_f49634a47085row15_col0\" class=\"data row15 col0\" >work_type_children</td>\n",
       "                        <td id=\"T_e7880005_9ec1_11eb_a22d_f49634a47085row15_col1\" class=\"data row15 col1\" >0.006979</td>\n",
       "            </tr>\n",
       "            <tr>\n",
       "                        <th id=\"T_e7880005_9ec1_11eb_a22d_f49634a47085level0_row16\" class=\"row_heading level0 row16\" >10</th>\n",
       "                        <td id=\"T_e7880005_9ec1_11eb_a22d_f49634a47085row16_col0\" class=\"data row16 col0\" >work_type_Never_worked</td>\n",
       "                        <td id=\"T_e7880005_9ec1_11eb_a22d_f49634a47085row16_col1\" class=\"data row16 col1\" >0.000001</td>\n",
       "            </tr>\n",
       "    </tbody></table>"
      ],
      "text/plain": [
       "<pandas.io.formats.style.Styler at 0x2b3ef80ee50>"
      ]
     },
     "execution_count": 43,
     "metadata": {},
     "output_type": "execute_result"
    }
   ],
   "source": [
    "# FEATURE IMPORTANCE\n",
    "\n",
    "f_imp3 = pd.DataFrame(columns = ['feature', 'importance'], index = range(1,18))\n",
    "\n",
    "for i in range(len(f_imp3.index)):\n",
    "    f_imp3.iloc[i, 0] = X_train_smt.columns.to_list()[i]\n",
    "    \n",
    "f_imp3['importance'] = rf_model.feature_importances_\n",
    "f_imp3 = f_imp3.sort_values('importance', ascending = False)\n",
    "f_imp3[0:17].style.background_gradient(cmap = 'Blues')"
   ]
  },
  {
   "cell_type": "markdown",
   "metadata": {},
   "source": [
    "### XGBOOST"
   ]
  },
  {
   "cell_type": "markdown",
   "metadata": {},
   "source": [
    "#### MODELO"
   ]
  },
  {
   "cell_type": "code",
   "execution_count": 35,
   "metadata": {
    "scrolled": true
   },
   "outputs": [
    {
     "name": "stdout",
     "output_type": "stream",
     "text": [
      "Fitting 10 folds for each of 75 candidates, totalling 750 fits\n",
      "[13:35:02] WARNING: C:/Users/Administrator/workspace/xgboost-win64_release_1.3.0/src/learner.cc:1061: Starting in XGBoost 1.3.0, the default evaluation metric used with the objective 'binary:logistic' was changed from 'error' to 'logloss'. Explicitly set eval_metric if you'd like to restore the old behavior.\n",
      "{'booster': 'gbtree', 'learning_rate': 0.5, 'max_depth': 3, 'n_estimators': 500}\n",
      "\n",
      "Best score: 0.951025641025641\n"
     ]
    },
    {
     "data": {
      "text/plain": [
       "0.9217221135029354"
      ]
     },
     "execution_count": 35,
     "metadata": {},
     "output_type": "execute_result"
    }
   ],
   "source": [
    "# XGBOOST\n",
    "\n",
    "xgb = XGBClassifier()\n",
    "\n",
    "parameters = {\n",
    "    'n_estimators': [100, 150, 200, 300, 500],\n",
    "    'booster': ['gbtree'],\n",
    "    'max_depth': [2, 3, 4],\n",
    "    'learning_rate': [0.01, 0.05, 0.1, 0.5, 1]\n",
    "}\n",
    "\n",
    "clf = GridSearchCV(estimator= xgb, param_grid= parameters, n_jobs=-1, cv=10, verbose=1, scoring='recall')\n",
    "\n",
    "clf.fit(X_train_smt, y_train_smt)\n",
    "\n",
    "print(clf.best_params_)\n",
    "print()\n",
    "print('Best score:', clf.best_score_)\n",
    "\n",
    "xgb_model = clf.best_estimator_\n",
    "\n",
    "xgb_model.score(X_test, y_test)"
   ]
  },
  {
   "cell_type": "code",
   "execution_count": 17,
   "metadata": {},
   "outputs": [
    {
     "name": "stdout",
     "output_type": "stream",
     "text": [
      "Fitting 10 folds for each of 1 candidates, totalling 10 fits\n",
      "[15:43:36] WARNING: C:/Users/Administrator/workspace/xgboost-win64_release_1.3.0/src/learner.cc:1061: Starting in XGBoost 1.3.0, the default evaluation metric used with the objective 'binary:logistic' was changed from 'error' to 'logloss'. Explicitly set eval_metric if you'd like to restore the old behavior.\n",
      "{'booster': 'gbtree', 'learning_rate': 0.05, 'max_depth': 4, 'n_estimators': 150}\n",
      "\n",
      "Best score: 0.9423076923076923\n"
     ]
    },
    {
     "data": {
      "text/plain": [
       "0.9383561643835616"
      ]
     },
     "execution_count": 17,
     "metadata": {},
     "output_type": "execute_result"
    }
   ],
   "source": [
    "# XGBOOST 2 ROC-AUC TOP SCORE\n",
    "\n",
    "xgb = XGBClassifier()\n",
    "\n",
    "parameters = {\n",
    "    'n_estimators': [150],\n",
    "    'booster': ['gbtree'],\n",
    "    'max_depth': [4],\n",
    "    'learning_rate': [0.05]\n",
    "}\n",
    "\n",
    "clf = GridSearchCV(estimator= xgb, param_grid= parameters, n_jobs=-1, cv=10, verbose=1, scoring='recall')\n",
    "\n",
    "clf.fit(X_train_smt, y_train_smt)\n",
    "\n",
    "print(clf.best_params_)\n",
    "print()\n",
    "print('Best score:', clf.best_score_)\n",
    "\n",
    "xgb_model = clf.best_estimator_\n",
    "\n",
    "xgb_model.score(X_test, y_test)"
   ]
  },
  {
   "cell_type": "markdown",
   "metadata": {},
   "source": [
    "#### MATRIZ DE CONFUSION"
   ]
  },
  {
   "cell_type": "code",
   "execution_count": 20,
   "metadata": {},
   "outputs": [
    {
     "data": {
      "image/png": "[encoded data removed]",
      "text/plain": [
       "<Figure size 576x576 with 1 Axes>"
      ]
     },
     "metadata": {
      "needs_background": "light"
     },
     "output_type": "display_data"
    },
    {
     "name": "stdout",
     "output_type": "stream",
     "text": [
      "              precision    recall  f1-score   support\n",
      "\n",
      "           0       0.94      1.00      0.97       960\n",
      "           1       0.40      0.03      0.06        62\n",
      "\n",
      "    accuracy                           0.94      1022\n",
      "   macro avg       0.67      0.51      0.51      1022\n",
      "weighted avg       0.91      0.94      0.91      1022\n",
      "\n"
     ]
    }
   ],
   "source": [
    "predictions = xgb_model.predict(X_test)\n",
    "\n",
    "matriz_confusion(y_test, predictions)"
   ]
  },
  {
   "cell_type": "markdown",
   "metadata": {},
   "source": [
    "#### METRICAS"
   ]
  },
  {
   "cell_type": "code",
   "execution_count": 32,
   "metadata": {},
   "outputs": [],
   "source": [
    "accuracy_xgb = round(accuracy_score(y_test, predictions), 2)\n",
    "precision_xgb = round(precision_score(y_test, predictions), 2)\n",
    "recall_xgb = round(recall_score(y_test, predictions), 2)\n",
    "f1_xgb = round(f1_score(y_test, predictions), 2)\n",
    "roc_auc_xgb = round(roc_auc_score(y_test, predictions), 2)"
   ]
  },
  {
   "cell_type": "markdown",
   "metadata": {},
   "source": [
    "#### ROC AUC CURVE"
   ]
  },
  {
   "cell_type": "code",
   "execution_count": 21,
   "metadata": {},
   "outputs": [
    {
     "data": {
      "image/png": "[encoded data removed]",
      "text/plain": [
       "<Figure size 576x576 with 1 Axes>"
      ]
     },
     "metadata": {},
     "output_type": "display_data"
    }
   ],
   "source": [
    "y_pred = xgb_model.predict(X_test)\n",
    "y_prob = xgb_model.predict_proba(X_test)[:,1]\n",
    "\n",
    "# Roc curve\n",
    "false_positive_rate, true_positive_rate, thresholds = roc_curve(y_test, y_prob)\n",
    "roc_auc = auc(false_positive_rate, true_positive_rate)\n",
    "\n",
    "sns.set_theme(style = 'white')\n",
    "plt.figure(figsize = (8, 8))\n",
    "plt.plot(false_positive_rate,true_positive_rate, color = '#b01717', label = 'AUC = %0.3f' % roc_auc)\n",
    "plt.legend(loc = 'lower right')\n",
    "plt.plot([0, 1], [0, 1], linestyle = '--', color = '#174ab0')\n",
    "plt.axis('tight')\n",
    "plt.ylabel('True Positive Rate')\n",
    "plt.xlabel('False Positive Rate')\n",
    "plt.show()"
   ]
  },
  {
   "cell_type": "markdown",
   "metadata": {},
   "source": [
    "#### FEATURE IMPORTANCE"
   ]
  },
  {
   "cell_type": "code",
   "execution_count": 22,
   "metadata": {},
   "outputs": [
    {
     "data": {
      "text/html": [
       "<style  type=\"text/css\" >\n",
       "#T_d6ece757_9eb9_11eb_8d1a_f49634a47085row0_col1{\n",
       "            background-color:  #08306b;\n",
       "            color:  #f1f1f1;\n",
       "        }#T_d6ece757_9eb9_11eb_8d1a_f49634a47085row1_col1{\n",
       "            background-color:  #3282be;\n",
       "            color:  #000000;\n",
       "        }#T_d6ece757_9eb9_11eb_8d1a_f49634a47085row2_col1{\n",
       "            background-color:  #3a8ac2;\n",
       "            color:  #000000;\n",
       "        }#T_d6ece757_9eb9_11eb_8d1a_f49634a47085row3_col1{\n",
       "            background-color:  #4493c7;\n",
       "            color:  #000000;\n",
       "        }#T_d6ece757_9eb9_11eb_8d1a_f49634a47085row4_col1,#T_d6ece757_9eb9_11eb_8d1a_f49634a47085row5_col1{\n",
       "            background-color:  #529dcc;\n",
       "            color:  #000000;\n",
       "        }#T_d6ece757_9eb9_11eb_8d1a_f49634a47085row6_col1{\n",
       "            background-color:  #5da5d1;\n",
       "            color:  #000000;\n",
       "        }#T_d6ece757_9eb9_11eb_8d1a_f49634a47085row7_col1{\n",
       "            background-color:  #6fb0d7;\n",
       "            color:  #000000;\n",
       "        }#T_d6ece757_9eb9_11eb_8d1a_f49634a47085row8_col1{\n",
       "            background-color:  #85bcdc;\n",
       "            color:  #000000;\n",
       "        }#T_d6ece757_9eb9_11eb_8d1a_f49634a47085row9_col1{\n",
       "            background-color:  #99c7e0;\n",
       "            color:  #000000;\n",
       "        }#T_d6ece757_9eb9_11eb_8d1a_f49634a47085row10_col1{\n",
       "            background-color:  #a0cbe2;\n",
       "            color:  #000000;\n",
       "        }#T_d6ece757_9eb9_11eb_8d1a_f49634a47085row11_col1{\n",
       "            background-color:  #b5d4e9;\n",
       "            color:  #000000;\n",
       "        }#T_d6ece757_9eb9_11eb_8d1a_f49634a47085row12_col1{\n",
       "            background-color:  #c8dcf0;\n",
       "            color:  #000000;\n",
       "        }#T_d6ece757_9eb9_11eb_8d1a_f49634a47085row13_col1{\n",
       "            background-color:  #eaf3fb;\n",
       "            color:  #000000;\n",
       "        }#T_d6ece757_9eb9_11eb_8d1a_f49634a47085row14_col1{\n",
       "            background-color:  #f0f6fd;\n",
       "            color:  #000000;\n",
       "        }#T_d6ece757_9eb9_11eb_8d1a_f49634a47085row15_col1{\n",
       "            background-color:  #f1f7fd;\n",
       "            color:  #000000;\n",
       "        }#T_d6ece757_9eb9_11eb_8d1a_f49634a47085row16_col1{\n",
       "            background-color:  #f7fbff;\n",
       "            color:  #000000;\n",
       "        }</style><table id=\"T_d6ece757_9eb9_11eb_8d1a_f49634a47085\" ><thead>    <tr>        <th class=\"blank level0\" ></th>        <th class=\"col_heading level0 col0\" >feature</th>        <th class=\"col_heading level0 col1\" >importance</th>    </tr></thead><tbody>\n",
       "                <tr>\n",
       "                        <th id=\"T_d6ece757_9eb9_11eb_8d1a_f49634a47085level0_row0\" class=\"row_heading level0 row0\" >2</th>\n",
       "                        <td id=\"T_d6ece757_9eb9_11eb_8d1a_f49634a47085row0_col0\" class=\"data row0 col0\" >age</td>\n",
       "                        <td id=\"T_d6ece757_9eb9_11eb_8d1a_f49634a47085row0_col1\" class=\"data row0 col1\" >0.142345</td>\n",
       "            </tr>\n",
       "            <tr>\n",
       "                        <th id=\"T_d6ece757_9eb9_11eb_8d1a_f49634a47085level0_row1\" class=\"row_heading level0 row1\" >11</th>\n",
       "                        <td id=\"T_d6ece757_9eb9_11eb_8d1a_f49634a47085row1_col0\" class=\"data row1 col0\" >work_type_Private</td>\n",
       "                        <td id=\"T_d6ece757_9eb9_11eb_8d1a_f49634a47085row1_col1\" class=\"data row1 col1\" >0.097826</td>\n",
       "            </tr>\n",
       "            <tr>\n",
       "                        <th id=\"T_d6ece757_9eb9_11eb_8d1a_f49634a47085level0_row2\" class=\"row_heading level0 row2\" >14</th>\n",
       "                        <td id=\"T_d6ece757_9eb9_11eb_8d1a_f49634a47085row2_col0\" class=\"data row2 col0\" >smoking_status_Unknown</td>\n",
       "                        <td id=\"T_d6ece757_9eb9_11eb_8d1a_f49634a47085row2_col1\" class=\"data row2 col1\" >0.093071</td>\n",
       "            </tr>\n",
       "            <tr>\n",
       "                        <th id=\"T_d6ece757_9eb9_11eb_8d1a_f49634a47085level0_row3\" class=\"row_heading level0 row3\" >6</th>\n",
       "                        <td id=\"T_d6ece757_9eb9_11eb_8d1a_f49634a47085row3_col0\" class=\"data row3 col0\" >residence_type</td>\n",
       "                        <td id=\"T_d6ece757_9eb9_11eb_8d1a_f49634a47085row3_col1\" class=\"data row3 col1\" >0.088168</td>\n",
       "            </tr>\n",
       "            <tr>\n",
       "                        <th id=\"T_d6ece757_9eb9_11eb_8d1a_f49634a47085level0_row4\" class=\"row_heading level0 row4\" >1</th>\n",
       "                        <td id=\"T_d6ece757_9eb9_11eb_8d1a_f49634a47085row4_col0\" class=\"data row4 col0\" >gender</td>\n",
       "                        <td id=\"T_d6ece757_9eb9_11eb_8d1a_f49634a47085row4_col1\" class=\"data row4 col1\" >0.082207</td>\n",
       "            </tr>\n",
       "            <tr>\n",
       "                        <th id=\"T_d6ece757_9eb9_11eb_8d1a_f49634a47085level0_row5\" class=\"row_heading level0 row5\" >16</th>\n",
       "                        <td id=\"T_d6ece757_9eb9_11eb_8d1a_f49634a47085row5_col0\" class=\"data row5 col0\" >smoking_status_never smoked</td>\n",
       "                        <td id=\"T_d6ece757_9eb9_11eb_8d1a_f49634a47085row5_col1\" class=\"data row5 col1\" >0.082027</td>\n",
       "            </tr>\n",
       "            <tr>\n",
       "                        <th id=\"T_d6ece757_9eb9_11eb_8d1a_f49634a47085level0_row6\" class=\"row_heading level0 row6\" >9</th>\n",
       "                        <td id=\"T_d6ece757_9eb9_11eb_8d1a_f49634a47085row6_col0\" class=\"data row6 col0\" >work_type_Govt_job</td>\n",
       "                        <td id=\"T_d6ece757_9eb9_11eb_8d1a_f49634a47085row6_col1\" class=\"data row6 col1\" >0.077218</td>\n",
       "            </tr>\n",
       "            <tr>\n",
       "                        <th id=\"T_d6ece757_9eb9_11eb_8d1a_f49634a47085level0_row7\" class=\"row_heading level0 row7\" >15</th>\n",
       "                        <td id=\"T_d6ece757_9eb9_11eb_8d1a_f49634a47085row7_col0\" class=\"data row7 col0\" >smoking_status_formerly smoked</td>\n",
       "                        <td id=\"T_d6ece757_9eb9_11eb_8d1a_f49634a47085row7_col1\" class=\"data row7 col1\" >0.069733</td>\n",
       "            </tr>\n",
       "            <tr>\n",
       "                        <th id=\"T_d6ece757_9eb9_11eb_8d1a_f49634a47085level0_row8\" class=\"row_heading level0 row8\" >4</th>\n",
       "                        <td id=\"T_d6ece757_9eb9_11eb_8d1a_f49634a47085row8_col0\" class=\"data row8 col0\" >heart_disease</td>\n",
       "                        <td id=\"T_d6ece757_9eb9_11eb_8d1a_f49634a47085row8_col1\" class=\"data row8 col1\" >0.062257</td>\n",
       "            </tr>\n",
       "            <tr>\n",
       "                        <th id=\"T_d6ece757_9eb9_11eb_8d1a_f49634a47085level0_row9\" class=\"row_heading level0 row9\" >5</th>\n",
       "                        <td id=\"T_d6ece757_9eb9_11eb_8d1a_f49634a47085row9_col0\" class=\"data row9 col0\" >ever_married</td>\n",
       "                        <td id=\"T_d6ece757_9eb9_11eb_8d1a_f49634a47085row9_col1\" class=\"data row9 col1\" >0.055391</td>\n",
       "            </tr>\n",
       "            <tr>\n",
       "                        <th id=\"T_d6ece757_9eb9_11eb_8d1a_f49634a47085level0_row10\" class=\"row_heading level0 row10\" >3</th>\n",
       "                        <td id=\"T_d6ece757_9eb9_11eb_8d1a_f49634a47085row10_col0\" class=\"data row10 col0\" >hypertension</td>\n",
       "                        <td id=\"T_d6ece757_9eb9_11eb_8d1a_f49634a47085row10_col1\" class=\"data row10 col1\" >0.052532</td>\n",
       "            </tr>\n",
       "            <tr>\n",
       "                        <th id=\"T_d6ece757_9eb9_11eb_8d1a_f49634a47085level0_row11\" class=\"row_heading level0 row11\" >12</th>\n",
       "                        <td id=\"T_d6ece757_9eb9_11eb_8d1a_f49634a47085row11_col0\" class=\"data row11 col0\" >work_type_Self-employed</td>\n",
       "                        <td id=\"T_d6ece757_9eb9_11eb_8d1a_f49634a47085row11_col1\" class=\"data row11 col1\" >0.043267</td>\n",
       "            </tr>\n",
       "            <tr>\n",
       "                        <th id=\"T_d6ece757_9eb9_11eb_8d1a_f49634a47085level0_row12\" class=\"row_heading level0 row12\" >17</th>\n",
       "                        <td id=\"T_d6ece757_9eb9_11eb_8d1a_f49634a47085row12_col0\" class=\"data row12 col0\" >smoking_status_smokes</td>\n",
       "                        <td id=\"T_d6ece757_9eb9_11eb_8d1a_f49634a47085row12_col1\" class=\"data row12 col1\" >0.034000</td>\n",
       "            </tr>\n",
       "            <tr>\n",
       "                        <th id=\"T_d6ece757_9eb9_11eb_8d1a_f49634a47085level0_row13\" class=\"row_heading level0 row13\" >7</th>\n",
       "                        <td id=\"T_d6ece757_9eb9_11eb_8d1a_f49634a47085row13_col0\" class=\"data row13 col0\" >avg_glucose_level</td>\n",
       "                        <td id=\"T_d6ece757_9eb9_11eb_8d1a_f49634a47085row13_col1\" class=\"data row13 col1\" >0.009404</td>\n",
       "            </tr>\n",
       "            <tr>\n",
       "                        <th id=\"T_d6ece757_9eb9_11eb_8d1a_f49634a47085level0_row14\" class=\"row_heading level0 row14\" >8</th>\n",
       "                        <td id=\"T_d6ece757_9eb9_11eb_8d1a_f49634a47085row14_col0\" class=\"data row14 col0\" >bmi</td>\n",
       "                        <td id=\"T_d6ece757_9eb9_11eb_8d1a_f49634a47085row14_col1\" class=\"data row14 col1\" >0.005556</td>\n",
       "            </tr>\n",
       "            <tr>\n",
       "                        <th id=\"T_d6ece757_9eb9_11eb_8d1a_f49634a47085level0_row15\" class=\"row_heading level0 row15\" >13</th>\n",
       "                        <td id=\"T_d6ece757_9eb9_11eb_8d1a_f49634a47085row15_col0\" class=\"data row15 col0\" >work_type_children</td>\n",
       "                        <td id=\"T_d6ece757_9eb9_11eb_8d1a_f49634a47085row15_col1\" class=\"data row15 col1\" >0.004997</td>\n",
       "            </tr>\n",
       "            <tr>\n",
       "                        <th id=\"T_d6ece757_9eb9_11eb_8d1a_f49634a47085level0_row16\" class=\"row_heading level0 row16\" >10</th>\n",
       "                        <td id=\"T_d6ece757_9eb9_11eb_8d1a_f49634a47085row16_col0\" class=\"data row16 col0\" >work_type_Never_worked</td>\n",
       "                        <td id=\"T_d6ece757_9eb9_11eb_8d1a_f49634a47085row16_col1\" class=\"data row16 col1\" >0.000000</td>\n",
       "            </tr>\n",
       "    </tbody></table>"
      ],
      "text/plain": [
       "<pandas.io.formats.style.Styler at 0x2b3edff32e0>"
      ]
     },
     "execution_count": 22,
     "metadata": {},
     "output_type": "execute_result"
    }
   ],
   "source": [
    "# FEATURE IMPORTANCE\n",
    "\n",
    "f_imp3 = pd.DataFrame(columns = ['feature', 'importance'], index = range(1,18))\n",
    "\n",
    "for i in range(len(f_imp3.index)):\n",
    "    f_imp3.iloc[i, 0] = X_train_smt.columns.to_list()[i]\n",
    "    \n",
    "f_imp3['importance'] = xgb_model.feature_importances_\n",
    "f_imp3 = f_imp3.sort_values('importance', ascending = False)\n",
    "f_imp3[0:17].style.background_gradient(cmap = 'Blues')"
   ]
  },
  {
   "cell_type": "markdown",
   "metadata": {},
   "source": [
    "### GRADIENT BOOSTING"
   ]
  },
  {
   "cell_type": "markdown",
   "metadata": {},
   "source": [
    "#### MODELO"
   ]
  },
  {
   "cell_type": "code",
   "execution_count": 34,
   "metadata": {},
   "outputs": [
    {
     "name": "stdout",
     "output_type": "stream",
     "text": [
      "Fitting 10 folds for each of 20 candidates, totalling 200 fits\n",
      "{'learning_rate': 0.05, 'loss': 'deviance', 'max_depth': 3, 'n_estimators': 5}\n",
      "\n",
      "Best score: 0.8201282051282052\n"
     ]
    },
    {
     "data": {
      "text/plain": [
       "0.7583170254403131"
      ]
     },
     "execution_count": 34,
     "metadata": {},
     "output_type": "execute_result"
    }
   ],
   "source": [
    "# GRADIENT BOOSTING\n",
    "\n",
    "gbc = GradientBoostingClassifier()\n",
    "\n",
    "parameters = {\n",
    "    'n_estimators': [1, 2, 3, 4, 5],\n",
    "    'loss': [\"deviance\"],\n",
    "    'max_depth': [2, 3],\n",
    "    'learning_rate': [0.01, 0.05]\n",
    "}\n",
    "\n",
    "clf = GridSearchCV(estimator= gbc, param_grid= parameters, n_jobs=-1, cv=10, verbose=1, scoring='accuracy')\n",
    "\n",
    "clf.fit(X_train_smt, y_train_smt)\n",
    "\n",
    "print(clf.best_params_)\n",
    "print()\n",
    "print('Best score:', clf.best_score_)\n",
    "\n",
    "gbc_model = clf.best_estimator_\n",
    "\n",
    "gbc_model.score(X_test, y_test)"
   ]
  },
  {
   "cell_type": "markdown",
   "metadata": {},
   "source": [
    "#### MATRIZ DE CONFUSION"
   ]
  },
  {
   "cell_type": "code",
   "execution_count": 35,
   "metadata": {},
   "outputs": [
    {
     "data": {
      "image/png": "[encoded data removed]",
      "text/plain": [
       "<Figure size 576x576 with 1 Axes>"
      ]
     },
     "metadata": {
      "needs_background": "light"
     },
     "output_type": "display_data"
    },
    {
     "name": "stdout",
     "output_type": "stream",
     "text": [
      "              precision    recall  f1-score   support\n",
      "\n",
      "           0       0.98      0.76      0.86       960\n",
      "           1       0.16      0.71      0.26        62\n",
      "\n",
      "    accuracy                           0.76      1022\n",
      "   macro avg       0.57      0.74      0.56      1022\n",
      "weighted avg       0.93      0.76      0.82      1022\n",
      "\n"
     ]
    }
   ],
   "source": [
    "predictions = gbc_model.predict(X_test)\n",
    "\n",
    "matriz_confusion(y_test, predictions)"
   ]
  },
  {
   "cell_type": "markdown",
   "metadata": {},
   "source": [
    "#### METRICAS"
   ]
  },
  {
   "cell_type": "code",
   "execution_count": 36,
   "metadata": {},
   "outputs": [],
   "source": [
    "accuracy_gbc = round(accuracy_score(y_test, predictions), 2)\n",
    "precision_gbc = round(precision_score(y_test, predictions), 2)\n",
    "recall_gbc = round(recall_score(y_test, predictions), 2)\n",
    "f1_gbc = round(f1_score(y_test, predictions), 2)\n",
    "roc_auc_gbc = round(roc_auc_score(y_test, predictions), 2)"
   ]
  },
  {
   "cell_type": "code",
   "execution_count": 37,
   "metadata": {},
   "outputs": [
    {
     "name": "stdout",
     "output_type": "stream",
     "text": [
      "0.76\n",
      "0.16\n",
      "0.71\n",
      "0.26\n",
      "0.74\n"
     ]
    }
   ],
   "source": [
    "print(accuracy_gbc)\n",
    "print(precision_gbc)\n",
    "print(recall_gbc)\n",
    "print(f1_gbc)\n",
    "print(roc_auc_gbc)"
   ]
  },
  {
   "cell_type": "markdown",
   "metadata": {},
   "source": [
    "# EVALUACION"
   ]
  },
  {
   "cell_type": "code",
   "execution_count": 56,
   "metadata": {},
   "outputs": [],
   "source": [
    "# CREAR DATAFRAME CON LOS MODELOS Y SUS METRICAS\n",
    "\n",
    "metricas = pd.DataFrame(columns=['Logistic Regression', 'Random Forest', 'XGBOOST'], index=range(5))\n",
    "\n",
    "# LR\n",
    "\n",
    "metricas.iloc[0, 0] = accuracy_log\n",
    "metricas.iloc[1, 0] = precision_log\n",
    "metricas.iloc[2, 0] = recall_log\n",
    "metricas.iloc[3, 0] = f1_log\n",
    "metricas.iloc[4, 0] = roc_auc_log\n",
    "\n",
    "# RF\n",
    "\n",
    "metricas.iloc[0, 1] = accuracy_rf\n",
    "metricas.iloc[1, 1] = precision_rf\n",
    "metricas.iloc[2, 1] = recall_rf\n",
    "metricas.iloc[3, 1] = f1_rf\n",
    "metricas.iloc[4, 1] = roc_auc_rf\n",
    "\n",
    "#XGB\n",
    "\n",
    "metricas.iloc[0, 2] = accuracy_xgb\n",
    "metricas.iloc[1, 2] = precision_xgb\n",
    "metricas.iloc[2, 2] = recall_xgb\n",
    "metricas.iloc[3, 2] = f1_xgb\n",
    "metricas.iloc[4, 2] = roc_auc_xgb"
   ]
  },
  {
   "cell_type": "code",
   "execution_count": 57,
   "metadata": {},
   "outputs": [
    {
     "data": {
      "text/html": [
       "<div>\n",
       "<style scoped>\n",
       "    .dataframe tbody tr th:only-of-type {\n",
       "        vertical-align: middle;\n",
       "    }\n",
       "\n",
       "    .dataframe tbody tr th {\n",
       "        vertical-align: top;\n",
       "    }\n",
       "\n",
       "    .dataframe thead th {\n",
       "        text-align: right;\n",
       "    }\n",
       "</style>\n",
       "<table border=\"1\" class=\"dataframe\">\n",
       "  <thead>\n",
       "    <tr style=\"text-align: right;\">\n",
       "      <th></th>\n",
       "      <th>Logistic Regression</th>\n",
       "      <th>Random Forest</th>\n",
       "      <th>XGBOOST</th>\n",
       "    </tr>\n",
       "  </thead>\n",
       "  <tbody>\n",
       "    <tr>\n",
       "      <th>0</th>\n",
       "      <td>0.74</td>\n",
       "      <td>0.89</td>\n",
       "      <td>0.94</td>\n",
       "    </tr>\n",
       "    <tr>\n",
       "      <th>1</th>\n",
       "      <td>0.16</td>\n",
       "      <td>0.22</td>\n",
       "      <td>0.4</td>\n",
       "    </tr>\n",
       "    <tr>\n",
       "      <th>2</th>\n",
       "      <td>0.77</td>\n",
       "      <td>0.34</td>\n",
       "      <td>0.03</td>\n",
       "    </tr>\n",
       "    <tr>\n",
       "      <th>3</th>\n",
       "      <td>0.27</td>\n",
       "      <td>0.27</td>\n",
       "      <td>0.06</td>\n",
       "    </tr>\n",
       "    <tr>\n",
       "      <th>4</th>\n",
       "      <td>0.76</td>\n",
       "      <td>0.63</td>\n",
       "      <td>0.51</td>\n",
       "    </tr>\n",
       "  </tbody>\n",
       "</table>\n",
       "</div>"
      ],
      "text/plain": [
       "  Logistic Regression Random Forest XGBOOST\n",
       "0                0.74          0.89    0.94\n",
       "1                0.16          0.22     0.4\n",
       "2                0.77          0.34    0.03\n",
       "3                0.27          0.27    0.06\n",
       "4                0.76          0.63    0.51"
      ]
     },
     "execution_count": 57,
     "metadata": {},
     "output_type": "execute_result"
    }
   ],
   "source": [
    "metricas"
   ]
  },
  {
   "cell_type": "code",
   "execution_count": 59,
   "metadata": {},
   "outputs": [
    {
     "data": {
      "image/png": "[encoded data removed]",
      "text/plain": [
       "<Figure size 720x504 with 1 Axes>"
      ]
     },
     "metadata": {},
     "output_type": "display_data"
    }
   ],
   "source": [
    "# HEATMAP DATAFRAME METRICAS\n",
    "\n",
    "plt.figure(figsize = (10, 7))\n",
    "\n",
    "sns.heatmap(metricas[metricas.columns.to_list()].astype(float), cmap = 'Blues', annot = True, linewidths = 1, cbar = False, yticklabels = ['Accuracy', 'Precision', 'Recall', 'F1', 'ROC AUC'])\n",
    "sns.set(font_scale = 1.5)\n",
    "plt.yticks(rotation = 0)\n",
    "plt.show()"
   ]
  }
 ],
 "metadata": {
  "colab": {
   "name": "PRUEBAS Stroke Prediction.ipynb",
   "provenance": [],
   "toc_visible": true
  },
  "kernelspec": {
   "display_name": "Python 3",
   "language": "python",
   "name": "python3"
  },
  "language_info": {
   "codemirror_mode": {
    "name": "ipython",
    "version": 3
   },
   "file_extension": ".py",
   "mimetype": "text/x-python",
   "name": "python",
   "nbconvert_exporter": "python",
   "pygments_lexer": "ipython3",
   "version": "3.8.5"
  }
 },
 "nbformat": 4,
 "nbformat_minor": 1
}
