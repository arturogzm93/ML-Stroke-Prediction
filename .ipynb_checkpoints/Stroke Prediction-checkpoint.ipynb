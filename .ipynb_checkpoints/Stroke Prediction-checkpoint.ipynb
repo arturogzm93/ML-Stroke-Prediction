{
 "cells": [
  {
   "cell_type": "markdown",
   "metadata": {},
   "source": [
    "# LIBRERIAS"
   ]
  },
  {
   "cell_type": "code",
   "execution_count": null,
   "metadata": {},
   "outputs": [],
   "source": [
    "# CARGAR LIBRERIAS\n",
    "\n",
    "import pandas as pd\n",
    "import numpy as np\n",
    "import seaborn as sns\n",
    "import matplotlib.pyplot as plt\n",
    "import warnings\n",
    "warnings.filterwarnings(\"ignore\")\n",
    "\n",
    "from sklearn.model_selection import train_test_split\n",
    "from sklearn.impute import KNNImputer\n",
    "from imblearn.over_sampling import SMOTE\n",
    "from sklearn.pipeline import Pipeline\n",
    "from sklearn.model_selection import GridSearchCV\n",
    "\n",
    "from sklearn.ensemble import RandomForestClassifier\n",
    "from sklearn.linear_model import LogisticRegression\n",
    "from xgboost import XGBClassifier\n",
    "from sklearn.svm import SVC\n",
    "from sklearn.ensemble import VotingClassifier\n",
    "\n",
    "from sklearn.metrics import accuracy_score, f1_score, recall_score, roc_auc_score, confusion_matrix\n",
    "\n",
    "#from sklearn.metrics import classification_report, confusion_matrix, roc_curve, auc\n",
    "#from sklearn.metrics import roc_auc_score, precision_score, recall_score, f1_score"
   ]
  },
  {
   "cell_type": "markdown",
   "metadata": {},
   "source": [
    "# DATOS"
   ]
  },
  {
   "cell_type": "markdown",
   "metadata": {},
   "source": [
    "URL = https://www.kaggle.com/fedesoriano/stroke-prediction-dataset\n",
    "\n",
    "**Context**\n",
    "\n",
    "According to the World Health Organization (WHO) stroke is the 2nd leading cause of death globally, responsible for approximately 11% of total deaths.\n",
    "This dataset is used to predict whether a patient is likely to get stroke based on the input parameters like gender, age, various diseases, and smoking status. Each row in the data provides relavant information about the patient.\n",
    "\n",
    "**Attribute Information**\n",
    "\n",
    "1) id: unique identifier\n",
    "\n",
    "2) gender: \"Male\", \"Female\" or \"Other\"\n",
    "\n",
    "3) age: age of the patient\n",
    "\n",
    "4) hypertension: 0 if the patient doesn't have hypertension, 1 if the patient has hypertension\n",
    "\n",
    "5) heart_disease: 0 if the patient doesn't have any heart diseases, 1 if the patient has a heart disease\n",
    "\n",
    "6) ever_married: \"No\" or \"Yes\"\n",
    "\n",
    "7) work_type: \"children\", \"Govt_jov\", \"Never_worked\", \"Private\" or \"Self-employed\"\n",
    "\n",
    "8) Residence_type: \"Rural\" or \"Urban\"\n",
    "\n",
    "9) avg_glucose_level: average glucose level in blood\n",
    "\n",
    "10) bmi: body mass index\n",
    "\n",
    "11) smoking_status: \"formerly smoked\", \"never smoked\", \"smokes\" or \"Unknown\"*\n",
    "\n",
    "12) stroke: 1 if the patient had a stroke or 0 if not\n",
    "\n",
    "*Note: \"Unknown\" in smoking_status means that the information is unavailable for this patient"
   ]
  },
  {
   "cell_type": "code",
   "execution_count": null,
   "metadata": {},
   "outputs": [],
   "source": [
    "# CARGAR BASE DE DATOS\n",
    "\n",
    "df = pd.read_csv('../BBDD/healthcare-dataset-stroke-data.csv')\n",
    "df.head()"
   ]
  },
  {
   "cell_type": "markdown",
   "metadata": {},
   "source": [
    "# ANALISIS EXPLORATORIO DE DATOS"
   ]
  },
  {
   "cell_type": "code",
   "execution_count": null,
   "metadata": {},
   "outputs": [],
   "source": [
    "df.info()"
   ]
  },
  {
   "cell_type": "code",
   "execution_count": null,
   "metadata": {},
   "outputs": [],
   "source": [
    "# BORRAR COLUMNA ID\n",
    "\n",
    "df.drop(columns='id', inplace=True)"
   ]
  },
  {
   "cell_type": "code",
   "execution_count": null,
   "metadata": {},
   "outputs": [],
   "source": [
    "# COMPROBAR NANS Y SUS PORCENTAJES\n",
    "\n",
    "print(df.isnull().sum())\n",
    "print()\n",
    "print(df.isnull().sum() / len(df) * 100)"
   ]
  },
  {
   "cell_type": "code",
   "execution_count": null,
   "metadata": {},
   "outputs": [],
   "source": [
    "# COMPROBAR DUPLICADOS\n",
    "\n",
    "df.duplicated().sum()"
   ]
  },
  {
   "cell_type": "code",
   "execution_count": null,
   "metadata": {},
   "outputs": [],
   "source": [
    "# ESTADISTICOS DEL DATAFRAME\n",
    "\n",
    "round(df.describe(include='all'), 2)"
   ]
  },
  {
   "cell_type": "code",
   "execution_count": null,
   "metadata": {},
   "outputs": [],
   "source": [
    "# LISTA DE COLUMNAS\n",
    "\n",
    "df.columns"
   ]
  },
  {
   "cell_type": "code",
   "execution_count": null,
   "metadata": {},
   "outputs": [],
   "source": [
    "# DISTRIBUCION DE LAS VARIABLES\n",
    "\n",
    "fig, axes = plt.subplots(nrows=4, ncols=3, figsize=(20, 10))\n",
    "axes = axes.flat\n",
    "columnas = df.columns\n",
    "\n",
    "for i, col in enumerate(columnas):\n",
    "    \n",
    "    sns.histplot(\n",
    "        data=df,\n",
    "        x=col,\n",
    "        stat=\"count\",\n",
    "        kde=True,\n",
    "        color=(list(plt.rcParams['axes.prop_cycle'])*2)[i][\"color\"],\n",
    "        line_kws={'linewidth': 2},\n",
    "        alpha= 0.3,\n",
    "        ax=axes[i]\n",
    "    )\n",
    "    \n",
    "    axes[i].set_title(col, fontsize=7, fontweight=\"bold\")\n",
    "    axes[i].tick_params(labelsize=6)\n",
    "    axes[i].set_xlabel(\"\")\n",
    "\n",
    "fig.delaxes(axes[11]) # BORRAR FIGURA EN POSICION 11\n",
    "    \n",
    "fig.tight_layout()\n",
    "plt.subplots_adjust(top =0.9)\n",
    "fig.suptitle('Distribución variables', fontsize=10, fontweight=\"bold\");"
   ]
  },
  {
   "cell_type": "code",
   "execution_count": null,
   "metadata": {},
   "outputs": [],
   "source": [
    "# DISTRIBUCION DE STROKE CON VARIABLES CATEGORICAS\n",
    "\n",
    "fig, axes = plt.subplots(nrows=2, ncols=4, figsize=(20, 10))\n",
    "axes = axes.flat\n",
    "columnas = df[['gender', 'hypertension', 'heart_disease', 'ever_married',\n",
    "       'work_type', 'Residence_type', 'smoking_status']]\n",
    "\n",
    "for i, col in enumerate(columnas):\n",
    "    \n",
    "    sns.countplot(\n",
    "        data=df,\n",
    "        x=col,\n",
    "        hue='stroke',\n",
    "        alpha= 0.3,\n",
    "        ax=axes[i]\n",
    "    )\n",
    "    \n",
    "    axes[i].set_title(col, fontsize=7, fontweight=\"bold\")\n",
    "    axes[i].tick_params(labelsize=6)\n",
    "    axes[i].set_xlabel(\"\")\n",
    "   \n",
    "fig.delaxes(axes[7]) # BORRAR FIGURA EN POSICION 7\n",
    "\n",
    "fig.tight_layout()\n",
    "plt.subplots_adjust(top =0.9)\n",
    "fig.suptitle('Distribución variables categoricas segun stroke', fontsize=10, fontweight=\"bold\");"
   ]
  },
  {
   "cell_type": "code",
   "execution_count": null,
   "metadata": {},
   "outputs": [],
   "source": [
    "# DISTRIBUCION DE STROKE CON VARIABLES NUMERICAS\n",
    "\n",
    "fig, axes = plt.subplots(nrows=3, ncols=1, figsize=(10, 15))\n",
    "axes = axes.flat\n",
    "columnas = df[['age', 'avg_glucose_level', 'bmi']]\n",
    "\n",
    "for i, col in enumerate(columnas):\n",
    "    \n",
    "    sns.kdeplot(columnas[col][(df['stroke'] == 0)], color='blue', shade=True, ax=axes[i])\n",
    "    sns.kdeplot(df[col][(df['stroke'] == 1)], color='red', shade=True, ax=axes[i])\n",
    "    axes[i].set_title(col, fontsize=7, fontweight=\"bold\")\n",
    "    axes[i].tick_params(labelsize=6)\n",
    "    axes[i].set_xlabel(\"\")\n",
    "    axes[i].legend(['No', 'Si'])\n",
    "\n",
    "fig.tight_layout()\n",
    "plt.subplots_adjust(top =0.9)\n",
    "fig.suptitle('Distribución variables numericas segun stroke', fontsize=10, fontweight=\"bold\");"
   ]
  },
  {
   "cell_type": "code",
   "execution_count": null,
   "metadata": {},
   "outputs": [],
   "source": [
    "# CORRELACION DE STROKE CON VARIABLES NUMERICAS\n",
    "\n",
    "fig, axes = plt.subplots(nrows=1, ncols=3, figsize=(15, 5))\n",
    "axes = axes.flat\n",
    "columnas = df[['age', 'avg_glucose_level', 'bmi']]\n",
    "\n",
    "for i, col in enumerate(columnas):\n",
    "    \n",
    "    sns.scatterplot(columnas[col], df['stroke'], hue=df['stroke'], ax=axes[i])\n",
    "    axes[i].set_title(col, fontsize=7, fontweight=\"bold\")\n",
    "    axes[i].tick_params(labelsize=6)\n",
    "    axes[i].set_xlabel(\"\")\n",
    "\n",
    "fig.tight_layout()\n",
    "plt.subplots_adjust(top =0.9)\n",
    "fig.suptitle('Distribución variables numericas segun stroke', fontsize=10, fontweight=\"bold\");"
   ]
  },
  {
   "cell_type": "code",
   "execution_count": null,
   "metadata": {},
   "outputs": [],
   "source": [
    "fig, axes = plt.subplots(nrows=2, ncols=4, figsize=(20, 10))\n",
    "axes = axes.flat\n",
    "columnas = df[['gender', 'hypertension', 'heart_disease', 'ever_married',\n",
    "       'work_type', 'Residence_type', 'smoking_status']]\n",
    "\n",
    "for i, col in enumerate(columnas):\n",
    "    \n",
    "    sns.violinplot(\n",
    "        x     = col,\n",
    "        y     = 'stroke',\n",
    "        data  = df,\n",
    "        ax    = axes[i]\n",
    "    )\n",
    "    \n",
    "    axes[i].set_title(f\"stroke vs {col}\", fontsize = 7, fontweight = \"bold\")\n",
    "    axes[i].tick_params(labelsize = 6)\n",
    "    axes[i].set_xlabel(\"\")\n",
    "    axes[i].set_ylabel(\"\")\n",
    "\n",
    "fig.delaxes(axes[7]) # BORRAR FIGURA EN POSICION 7\n",
    "\n",
    "fig.tight_layout()\n",
    "plt.subplots_adjust(top =0.9)\n",
    "fig.suptitle('Distribución de stroke por grupo', fontsize=10, fontweight=\"bold\");"
   ]
  },
  {
   "cell_type": "code",
   "execution_count": null,
   "metadata": {},
   "outputs": [],
   "source": [
    "# CORRELACION DE LAS VARIABLES\n",
    "\n",
    "plt.figure(figsize=(15, 5))\n",
    "sns.heatmap(df.corr(),\n",
    "           vmin = -1,\n",
    "           vmax = 1,\n",
    "           cmap=sns.color_palette(\"coolwarm\", as_cmap=True),\n",
    "           square = True,\n",
    "           linewidths = 0.5,\n",
    "           annot=True)\n",
    "\n",
    "plt.xticks(rotation=-60);"
   ]
  },
  {
   "cell_type": "markdown",
   "metadata": {},
   "source": [
    "# PREPROCESADO DE DATOS"
   ]
  },
  {
   "cell_type": "code",
   "execution_count": null,
   "metadata": {},
   "outputs": [],
   "source": [
    "# TOTAL DE MISSINGS EN STROKE = 1\n",
    "\n",
    "print(df[df['stroke'] == 1].count())\n",
    "print()\n",
    "print(df[df['stroke'] == 1].isnull().sum())"
   ]
  },
  {
   "cell_type": "code",
   "execution_count": null,
   "metadata": {},
   "outputs": [],
   "source": [
    "# SUSTITUIR EN COLUMNA 'GENDER' FEMALE POR 0 Y MALE POR 1\n",
    "\n",
    "df.loc[df['gender'] == 'Female', 'gender'] = 0\n",
    "df.loc[df['gender'] == 'Male', 'gender'] = 1\n",
    "\n",
    "# SUSTITUIR EN COLUMNA 'EVER_MARRIED' NO POR 0 Y YES POR 1\n",
    "\n",
    "df.loc[df['ever_married'] == 'No', 'ever_married'] = 0\n",
    "df.loc[df['ever_married'] == 'Yes', 'ever_married'] = 1\n",
    "\n",
    "# SUSTITUIR EN COLUMNA 'RESIDENCE TYPE' RURAL POR 0 Y URBAN POR 1\n",
    "\n",
    "df.loc[df['Residence_type'] == 'Rural', 'Residence_type'] = 0\n",
    "df.loc[df['Residence_type'] == 'Urban', 'Residence_type'] = 1"
   ]
  },
  {
   "cell_type": "code",
   "execution_count": null,
   "metadata": {},
   "outputs": [],
   "source": [
    "# COMPROBAR CON UNA MASCARA SI HAY ALGUNA FILA CON GENDER 'OTHER'\n",
    "\n",
    "df[df['gender'] == 'Other']"
   ]
  },
  {
   "cell_type": "code",
   "execution_count": null,
   "metadata": {},
   "outputs": [],
   "source": [
    "# BORRAR FILA CON GENDER 'OTHER'\n",
    "\n",
    "df.drop(index= 3116, inplace=True)\n",
    "\n",
    "# RESETEAR LOS VALORES DEL INDICE\n",
    "\n",
    "df.reset_index(drop = True, inplace = True)"
   ]
  },
  {
   "cell_type": "code",
   "execution_count": null,
   "metadata": {},
   "outputs": [],
   "source": [
    "# SEPARAR EN DISTINTAS COLUMNAS LAS DIFERENTES CATEGORIAS DE 'WORK TYPE' Y 'SMOKING STATUS'\n",
    "\n",
    "df = pd.get_dummies(data=df, columns=['work_type', 'smoking_status'])"
   ]
  },
  {
   "cell_type": "code",
   "execution_count": null,
   "metadata": {},
   "outputs": [],
   "source": [
    "# CAMBIAR TIPOS EN COLUMNAS\n",
    "\n",
    "df = df.astype({\n",
    "    'gender': 'int64',\n",
    "    'age': 'int64',\n",
    "    'ever_married': 'int64',\n",
    "    'Residence_type':'int64'\n",
    "})"
   ]
  },
  {
   "cell_type": "code",
   "execution_count": null,
   "metadata": {},
   "outputs": [],
   "source": [
    "# RENOMBRAR COLUMNA RESIDENCE_TYPE\n",
    "\n",
    "df.rename(columns={'Residence_type': 'residence_type'}, inplace=True)"
   ]
  },
  {
   "cell_type": "code",
   "execution_count": null,
   "metadata": {},
   "outputs": [],
   "source": [
    "# REORDENAR COLUMNAS\n",
    "\n",
    "df = df[['gender', 'age', 'hypertension', 'heart_disease', 'ever_married',\n",
    "       'residence_type', 'avg_glucose_level', 'bmi', 'work_type_Govt_job', \n",
    "       'work_type_Never_worked', 'work_type_Private', 'work_type_Self-employed', \n",
    "       'work_type_children', 'smoking_status_Unknown', 'smoking_status_formerly smoked',\n",
    "       'smoking_status_never smoked', 'smoking_status_smokes', 'stroke']]"
   ]
  },
  {
   "cell_type": "code",
   "execution_count": null,
   "metadata": {},
   "outputs": [],
   "source": [
    "df.info()"
   ]
  },
  {
   "cell_type": "markdown",
   "metadata": {},
   "source": [
    "# TRAIN/TEST SPLIT"
   ]
  },
  {
   "cell_type": "code",
   "execution_count": null,
   "metadata": {},
   "outputs": [],
   "source": [
    "# DIVIDIR EN TRAIN Y TEST\n",
    "\n",
    "X = df.drop('stroke', axis=1)\n",
    "y = df['stroke']\n",
    "\n",
    "X_train, X_test, y_train, y_test = train_test_split(X, y, test_size=0.2, random_state=42)"
   ]
  },
  {
   "cell_type": "code",
   "execution_count": null,
   "metadata": {},
   "outputs": [],
   "source": [
    "# TAMAÑOS DE SPLITS Y TOTAL DE 1(STROKE) EN Y_TRAIN Y EN Y_TEST\n",
    "\n",
    "print('Tamaños')\n",
    "print('-------')\n",
    "print('X_train:', X_train.shape)\n",
    "print('X_test:', X_test.shape)\n",
    "print('y_train:', y_train.shape)\n",
    "print('y_test:', y_test.shape)\n",
    "print()\n",
    "print('Total de stroke en splits')\n",
    "print('-------------------------')\n",
    "print('y_train:', y_train[y_train == 1].count())\n",
    "print('y_test:', y_test[y_test == 1].count())"
   ]
  },
  {
   "cell_type": "markdown",
   "metadata": {},
   "source": [
    "# FEATURE ENGINEERING"
   ]
  },
  {
   "cell_type": "code",
   "execution_count": null,
   "metadata": {},
   "outputs": [],
   "source": [
    "print('Train BMI missings')\n",
    "print('------------------')\n",
    "print(X_train.bmi.isnull().sum())\n",
    "print()\n",
    "print('Test BMI missings')\n",
    "print('-----------------')\n",
    "print(X_test.bmi.isnull().sum())"
   ]
  },
  {
   "cell_type": "code",
   "execution_count": null,
   "metadata": {},
   "outputs": [],
   "source": [
    "# IMPUTAR MISSINGS MEDIANTE KNN\n",
    "\n",
    "imputer = KNNImputer(n_neighbors=5)\n",
    "\n",
    "imputer.fit(X_train[['gender', 'age', 'hypertension', 'heart_disease', 'ever_married',\n",
    "       'residence_type', 'avg_glucose_level', 'bmi', 'work_type_Govt_job', \n",
    "       'work_type_Never_worked', 'work_type_Private', 'work_type_Self-employed', \n",
    "       'work_type_children', 'smoking_status_Unknown', 'smoking_status_formerly smoked',\n",
    "       'smoking_status_never smoked', 'smoking_status_smokes']])\n",
    "\n",
    "X_train[['gender', 'age', 'hypertension', 'heart_disease', 'ever_married',\n",
    "       'residence_type', 'avg_glucose_level', 'bmi', 'work_type_Govt_job', \n",
    "       'work_type_Never_worked', 'work_type_Private', 'work_type_Self-employed', \n",
    "       'work_type_children', 'smoking_status_Unknown', 'smoking_status_formerly smoked',\n",
    "       'smoking_status_never smoked', 'smoking_status_smokes']] = imputer.transform(X_train[['gender', 'age', 'hypertension',                'heart_disease', 'ever_married',\n",
    "       'residence_type', 'avg_glucose_level', 'bmi', 'work_type_Govt_job', \n",
    "       'work_type_Never_worked', 'work_type_Private', 'work_type_Self-employed', \n",
    "       'work_type_children', 'smoking_status_Unknown', 'smoking_status_formerly smoked',\n",
    "       'smoking_status_never smoked', 'smoking_status_smokes']])"
   ]
  },
  {
   "cell_type": "code",
   "execution_count": null,
   "metadata": {},
   "outputs": [],
   "source": [
    "# COMPROBAR QUE NO HAY MISSINGS\n",
    "\n",
    "X_train.isnull().sum()"
   ]
  },
  {
   "cell_type": "code",
   "execution_count": null,
   "metadata": {},
   "outputs": [],
   "source": [
    "# BALANCEAR TARGET CON SMOTE\n",
    "\n",
    "from collections import Counter\n",
    "\n",
    "counter = Counter(y_train)\n",
    "print('Antes de SMOTE', counter)\n",
    "\n",
    "smt = SMOTE(random_state=42)\n",
    "X_train_smt, y_train_smt = smt.fit_resample(X_train, y_train)\n",
    "\n",
    "counter = Counter(y_train_smt)\n",
    "print('Despues de SMOTE', counter)"
   ]
  },
  {
   "cell_type": "code",
   "execution_count": null,
   "metadata": {},
   "outputs": [],
   "source": [
    "# IMPUTAR MISSINGS MEDIANTE KNN\n",
    "\n",
    "X_test[['gender', 'age', 'hypertension', 'heart_disease', 'ever_married',\n",
    "       'residence_type', 'avg_glucose_level', 'bmi', 'work_type_Govt_job', \n",
    "       'work_type_Never_worked', 'work_type_Private', 'work_type_Self-employed', \n",
    "       'work_type_children', 'smoking_status_Unknown', 'smoking_status_formerly smoked',\n",
    "       'smoking_status_never smoked', 'smoking_status_smokes']] = imputer.transform(X_test[['gender', 'age', 'hypertension',                'heart_disease', 'ever_married',\n",
    "       'residence_type', 'avg_glucose_level', 'bmi', 'work_type_Govt_job', \n",
    "       'work_type_Never_worked', 'work_type_Private', 'work_type_Self-employed', \n",
    "       'work_type_children', 'smoking_status_Unknown', 'smoking_status_formerly smoked',\n",
    "       'smoking_status_never smoked', 'smoking_status_smokes']])"
   ]
  },
  {
   "cell_type": "markdown",
   "metadata": {},
   "source": [
    "# MODELOS"
   ]
  },
  {
   "cell_type": "markdown",
   "metadata": {},
   "source": [
    "#### LOGISTIC REGRESSION"
   ]
  },
  {
   "cell_type": "code",
   "execution_count": null,
   "metadata": {},
   "outputs": [],
   "source": [
    "# LOGISTIC REGRESSION\n",
    "\n",
    "log_reg = LogisticRegression()\n",
    "\n",
    "parameters = {\n",
    "    'penalty': ['l1', 'l2'],\n",
    "    'C': [0.01, 0.1, 0.5, 1, 5, 10],\n",
    "    'max_iter': [50,100,500],\n",
    "    'solver': ['sag']\n",
    "}\n",
    "\n",
    "clf = GridSearchCV(estimator= log_reg, param_grid= parameters, n_jobs=-1, cv=10, verbose=2, scoring='roc_auc')\n",
    "\n",
    "clf.fit(X_train_smt, y_train_smt)\n",
    "\n",
    "print(clf.best_params_)\n",
    "print()\n",
    "print('Best score:', clf.best_score_)\n",
    "\n",
    "log_model = clf.best_estimator_"
   ]
  },
  {
   "cell_type": "code",
   "execution_count": null,
   "metadata": {},
   "outputs": [],
   "source": [
    "log_model.score(X_test, y_test)"
   ]
  },
  {
   "cell_type": "markdown",
   "metadata": {},
   "source": [
    "#### RANDOM FOREST"
   ]
  },
  {
   "cell_type": "code",
   "execution_count": null,
   "metadata": {},
   "outputs": [],
   "source": [
    "# RANDOM FOREST\n",
    "\n",
    "rf = RandomForestClassifier()\n",
    "\n",
    "parameters = {\n",
    "    'n_estimators': [50, 100, 200, 300],\n",
    "    'max_depth': [2,3],\n",
    "    'max_features': [1, 2, 3]\n",
    "}\n",
    "\n",
    "clf = GridSearchCV(estimator= rf, param_grid= parameters, n_jobs=-1, cv=10, verbose=2, scoring='roc_auc')\n",
    "\n",
    "clf.fit(X_train_smt, y_train_smt)\n",
    "\n",
    "print(clf.best_params_)\n",
    "print()\n",
    "print('Best score:', clf.best_score_)\n",
    "\n",
    "rf_model = clf.best_estimator_"
   ]
  },
  {
   "cell_type": "code",
   "execution_count": null,
   "metadata": {},
   "outputs": [],
   "source": [
    "rf_model.score(X_test, y_test)"
   ]
  },
  {
   "cell_type": "markdown",
   "metadata": {},
   "source": [
    "#### XGBOOST"
   ]
  },
  {
   "cell_type": "code",
   "execution_count": null,
   "metadata": {},
   "outputs": [],
   "source": [
    "# XGBOOST\n",
    "\n",
    "xgb = XGBClassifier()\n",
    "\n",
    "parameters = {\n",
    "    'n_estimators': [90, 91, 92, 93, 94, 95],\n",
    "    'booster': ['gbtree'],\n",
    "    'max_depth': [2],\n",
    "    'learning_rate': [0.05, 0.06, 0.07, 0.08, 0.09, 0.1]\n",
    "}\n",
    "\n",
    "clf = GridSearchCV(estimator= xgb, param_grid= parameters, n_jobs=-1, cv=10, verbose=2, scoring='roc_auc')\n",
    "\n",
    "clf.fit(X_train_smt, y_train_smt)\n",
    "\n",
    "print(clf.best_params_)\n",
    "print()\n",
    "print('Best score:', clf.best_score_)\n",
    "\n",
    "xgb_model = clf.best_estimator_"
   ]
  },
  {
   "cell_type": "code",
   "execution_count": null,
   "metadata": {},
   "outputs": [],
   "source": [
    "xgb_model.score(X_test, y_test)"
   ]
  }
 ],
 "metadata": {
  "kernelspec": {
   "display_name": "Python 3.8.5 64-bit (conda)",
   "name": "python385jvsc74a57bd0fc33febecb25bf51ecb9e8745ca02a2d49ab50b5c3e3d57ffb721b0f2206d5d8"
  },
  "language_info": {
   "codemirror_mode": {
    "name": "ipython",
    "version": 3
   },
   "file_extension": ".py",
   "mimetype": "text/x-python",
   "name": "python",
   "nbconvert_exporter": "python",
   "pygments_lexer": "ipython3",
   "version": "3.8.5-final"
  }
 },
 "nbformat": 4,
 "nbformat_minor": 2
}
